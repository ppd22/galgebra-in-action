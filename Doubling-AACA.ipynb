{
 "cells": [
  {
   "cell_type": "code",
   "execution_count": 1,
   "metadata": {},
   "outputs": [],
   "source": [
    "import sympy\n",
    "from sympy import symbols\n",
    "from galgebra.ga import Ga\n",
    "from galgebra.printer import latex\n",
    "from IPython.display import Math\n",
    "import numpy\n",
    "import math\n",
    "import copy\n",
    "from sympy.matrices import Matrix, eye, zeros, ones, diag, GramSchmidt\n",
    "\n",
    "# tell sympy to use our printing by default\n",
    "sympy.init_printing(latex_printer=latex, use_latex='mathjax')\n",
    "\n",
    "s3coords = (x,y,z) = symbols('1 2 3', real=True)\n",
    "s3 = Ga('e',\n",
    "         g=[1,1,1],\n",
    "         coords=s3coords)\n",
    "\n",
    "M = s3.mv('M','mv',f = True)\n",
    "\n",
    "\n",
    "e1, e2, e3 = s3.mv()\n",
    "\n"
   ]
  },
  {
   "cell_type": "code",
   "execution_count": 2,
   "metadata": {},
   "outputs": [],
   "source": [
    "def spIP(R1, R2):\n",
    "    \n",
    "    ip = 1/2*(R1*R2.rev()+R2*R1.rev())\n",
    "    \n",
    "    return ip\n",
    "\n",
    "def CM(simple_roots_4D):\n",
    "\n",
    "    A = zeros(len(simple_roots_4D), len(simple_roots_4D))\n",
    "    for i in range(len(simple_roots_4D)):\n",
    "        for j in range(len(simple_roots_4D)):\n",
    "            tmp = spIP(simple_roots_4D[i], simple_roots_4D[j])\n",
    "            tmp2 = 2*tmp.blade_coefs()[0] \n",
    "            A[i,j]= sympy.simplify(tmp2)\n",
    "    return A\n",
    "\n",
    "\n",
    "def closure_of_roots_in_spin(simples):\n",
    "    simple_roots = [a for a in simples]\n",
    "    roots = [a for a in simples]\n",
    "    new = [a for a in simples]\n",
    "    while 1==1:\n",
    "        new1 = [ ]\n",
    "        for u in new:\n",
    "            for n in simple_roots:\n",
    "                tmp = reflect_spinor(n, u) \n",
    "                if not tmp in roots:\n",
    "                    if not tmp in new1:\n",
    "                        new1.append(tmp)\n",
    "        if new1 == [ ]:\n",
    "            break\n",
    "        else:\n",
    "            print(len(roots),len(new1))\n",
    "            print('----------------')\n",
    "            roots = roots+new1\n",
    "            new = [a for a in new1]\n",
    "    print('This is a root system with ', len(roots), ' roots')\n",
    "    return roots\n",
    "\n",
    "def reflect_spinor(R1, R2):\n",
    "    B = -R1*R2.rev()*R1\n",
    "    return B\n",
    "\n",
    "def closure_of_roots(simples):\n",
    "    simple_roots = [a for a in simples]\n",
    "    roots = [a for a in simples]\n",
    "    new = [a for a in simples]\n",
    "    while 1==1:\n",
    "        new1 = [ ]\n",
    "        for u in new:\n",
    "            for n in simple_roots:\n",
    "                tmp = -n * u * n\n",
    "                if not tmp in roots:\n",
    "                    if not tmp in new1:\n",
    "                        new1.append(tmp)\n",
    "        if new1 == [ ]:\n",
    "            break\n",
    "        else:\n",
    "            print(len(roots),len(new1))\n",
    "            print('----------------')\n",
    "            roots = roots+new1\n",
    "            new = [a for a in new1]\n",
    "    print('This is a root system with ', len(roots), ' roots')\n",
    "    return roots\n",
    "\n",
    "def closure_of_generators(gens):\n",
    "    elts = copy.copy(gens)\n",
    "    new = copy.copy(gens)\n",
    "\n",
    "    while True:\n",
    "        new1 = [ ]\n",
    "        for u in new:\n",
    "            for v in gens:\n",
    "                tmp = u * v\n",
    "                if not tmp in elts:\n",
    "                    if not tmp in new1:\n",
    "                        new1.append(tmp)\n",
    "        if new1 == [ ]:\n",
    "            break\n",
    "        else:\n",
    "            print(len(elts),len(new1))\n",
    "            print('----------------')\n",
    "            elts = elts+new1\n",
    "            new = copy.copy(new1)\n",
    "    print('There are ', len(elts), ' elements in total.')\n",
    "    return elts"
   ]
  },
  {
   "cell_type": "markdown",
   "metadata": {},
   "source": [
    "# Simple roots for $I_2(n)$ and $I_2(n)\\oplus I_2(n)$"
   ]
  },
  {
   "cell_type": "code",
   "execution_count": 3,
   "metadata": {},
   "outputs": [],
   "source": [
    "n = symbols('n', real = True)\n",
    "\n",
    "a1 = e1\n",
    "a2 = - sympy.cos(sympy.pi/n)*e1 + sympy.sin(sympy.pi/n)*e2"
   ]
  },
  {
   "cell_type": "code",
   "execution_count": 4,
   "metadata": {},
   "outputs": [
    {
     "data": {
      "text/latex": [
       "$$\\left[\\begin{array}{cccc}2.0 & - 2.0 \\cos{\\left (\\frac{\\pi}{n} \\right )} & 0 & 0\\\\- 2.0 \\cos{\\left (\\frac{\\pi}{n} \\right )} & 2.0 & 0 & 0\\\\0 & 0 & 2.0 & - 2.0 \\cos{\\left (\\frac{\\pi}{n} \\right )}\\\\0 & 0 & - 2.0 \\cos{\\left (\\frac{\\pi}{n} \\right )} & 2.0\\end{array}\\right]$$"
      ],
      "text/plain": [
       "Matrix([\n",
       "[           2.0, -2.0*cos(pi/n),              0,              0],\n",
       "[-2.0*cos(pi/n),            2.0,              0,              0],\n",
       "[             0,              0,            2.0, -2.0*cos(pi/n)],\n",
       "[             0,              0, -2.0*cos(pi/n),            2.0]])"
      ]
     },
     "execution_count": 4,
     "metadata": {},
     "output_type": "execute_result"
    }
   ],
   "source": [
    "CM([a1*a1, a1*a2, a1*e1*e2*e3, a2*e1*e2*e3])"
   ]
  },
  {
   "cell_type": "code",
   "execution_count": 5,
   "metadata": {},
   "outputs": [
    {
     "data": {
      "text/latex": [
       "$$\\left[\\begin{array}{cccc}2.0 & - 2.0 \\cos{\\left (\\frac{\\pi}{n} \\right )} & 0 & 0\\\\- 2.0 \\cos{\\left (\\frac{\\pi}{n} \\right )} & 2.0 & 0 & 0\\\\0 & 0 & 2.0 & - 2.0 \\cos{\\left (\\frac{\\pi}{n} \\right )}\\\\0 & 0 & - 2.0 \\cos{\\left (\\frac{\\pi}{n} \\right )} & 2.0\\end{array}\\right]$$"
      ],
      "text/plain": [
       "Matrix([\n",
       "[           2.0, -2.0*cos(pi/n),              0,              0],\n",
       "[-2.0*cos(pi/n),            2.0,              0,              0],\n",
       "[             0,              0,            2.0, -2.0*cos(pi/n)],\n",
       "[             0,              0, -2.0*cos(pi/n),            2.0]])"
      ]
     },
     "execution_count": 5,
     "metadata": {},
     "output_type": "execute_result"
    }
   ],
   "source": [
    "CM([a1*a1, a1*a2, a1*e3, a2*e3])"
   ]
  },
  {
   "cell_type": "code",
   "execution_count": 6,
   "metadata": {},
   "outputs": [
    {
     "data": {
      "text/plain": [
       "[e_1^e_3,\n",
       " -sin(pi/n)*e_1^e_3 - cos(pi/n)*e_2^e_3,\n",
       " -cos(pi/n)*e_1^e_3 + sin(pi/n)*e_2^e_3,\n",
       " e_2^e_3]"
      ]
     },
     "execution_count": 6,
     "metadata": {},
     "output_type": "execute_result"
    }
   ],
   "source": [
    "[a1*e3,   a2*e1*e2*e3,a2*e3,a1*e1*e2*e3]"
   ]
  },
  {
   "cell_type": "code",
   "execution_count": 7,
   "metadata": {},
   "outputs": [
    {
     "data": {
      "text/plain": [
       "(1,\n",
       " -cos(pi/n) + sin(pi/n)*e_1^e_2,\n",
       " e_2^e_3,\n",
       " -sin(pi/n)*e_1^e_3 - cos(pi/n)*e_2^e_3)"
      ]
     },
     "execution_count": 7,
     "metadata": {},
     "output_type": "execute_result"
    }
   ],
   "source": [
    "a1*a1, a1*a2, a1*e1*e2*e3, a2*e1*e2*e3"
   ]
  },
  {
   "cell_type": "code",
   "execution_count": 8,
   "metadata": {},
   "outputs": [
    {
     "data": {
      "text/plain": [
       "(1,\n",
       " -cos(pi/n) + sin(pi/n)*e_1^e_2,\n",
       " e_1^e_3,\n",
       " -cos(pi/n)*e_1^e_3 + sin(pi/n)*e_2^e_3)"
      ]
     },
     "execution_count": 8,
     "metadata": {},
     "output_type": "execute_result"
    }
   ],
   "source": [
    "a1*a1, a1*a2, a1*e3, a2*e3"
   ]
  },
  {
   "cell_type": "markdown",
   "metadata": {},
   "source": [
    "# Compare root systems and closure properties"
   ]
  },
  {
   "cell_type": "code",
   "execution_count": 9,
   "metadata": {},
   "outputs": [
    {
     "name": "stdout",
     "output_type": "stream",
     "text": [
      "4 6\n",
      "----------------\n",
      "10 2\n",
      "----------------\n",
      "This is a root system with  12  roots\n",
      "4 8\n",
      "----------------\n",
      "12 6\n",
      "----------------\n",
      "18 2\n",
      "----------------\n",
      "This is a root system with  20  roots\n"
     ]
    }
   ],
   "source": [
    "tau=1/2*(1+sympy.sqrt(5))\n",
    "\n",
    "a1 = e1\n",
    "a2 = - sympy.cos(sympy.pi/3)*e1 + sympy.sin(sympy.pi/3)*e2\n",
    "a3 = - sympy.cos(sympy.pi/5)*e1 + sympy.sin(sympy.pi/5)*e2\n",
    "\n",
    "A2_1 = closure_of_roots_in_spin([a1*a1, a1*a2, a1*e1*e2*e3, a2*e1*e2*e3])\n",
    "H2_1 = closure_of_roots_in_spin([a1*a1, a1*a3, a1*e1*e2*e3, a3*e1*e2*e3])"
   ]
  },
  {
   "cell_type": "code",
   "execution_count": 10,
   "metadata": {},
   "outputs": [
    {
     "name": "stdout",
     "output_type": "stream",
     "text": [
      "4 6\n",
      "----------------\n",
      "10 2\n",
      "----------------\n",
      "This is a root system with  12  roots\n",
      "4 8\n",
      "----------------\n",
      "12 6\n",
      "----------------\n",
      "18 2\n",
      "----------------\n",
      "This is a root system with  20  roots\n"
     ]
    }
   ],
   "source": [
    "A2_2 = closure_of_roots_in_spin([a1*a1, a1*a2, a1*e3, a2*e3])\n",
    "H2_2 = closure_of_roots_in_spin([a1*a1, a1*a3, a1*e3, a3*e3])"
   ]
  },
  {
   "cell_type": "code",
   "execution_count": 12,
   "metadata": {},
   "outputs": [
    {
     "name": "stdout",
     "output_type": "stream",
     "text": [
      "4 5\n",
      "----------------\n",
      "9 3\n",
      "----------------\n",
      "There are  12  elements in total.\n",
      "4 6\n",
      "----------------\n",
      "10 8\n",
      "----------------\n",
      "18 2\n",
      "----------------\n",
      "There are  20  elements in total.\n"
     ]
    }
   ],
   "source": [
    "A2_3 = closure_of_generators([a1*a1, a1*a2, a1*e3, a2*e3])\n",
    "H2_3 = closure_of_generators([a1*a1, a1*a3, a1*e3, a3*e3])"
   ]
  },
  {
   "cell_type": "code",
   "execution_count": 13,
   "metadata": {},
   "outputs": [
    {
     "name": "stdout",
     "output_type": "stream",
     "text": [
      "4 5\n",
      "----------------\n",
      "9 3\n",
      "----------------\n",
      "There are  12  elements in total.\n",
      "4 6\n",
      "----------------\n",
      "10 8\n",
      "----------------\n",
      "18 2\n",
      "----------------\n",
      "There are  20  elements in total.\n"
     ]
    }
   ],
   "source": [
    "A2_4 = closure_of_generators([a1*a1, a1*a2, a1*e1*e2*e3, a2*e1*e2*e3])\n",
    "H2_4 = closure_of_generators([a1*a1, a1*a3, a1*e1*e2*e3, a3*e1*e2*e3])"
   ]
  },
  {
   "cell_type": "code",
   "execution_count": 14,
   "metadata": {},
   "outputs": [
    {
     "name": "stdout",
     "output_type": "stream",
     "text": [
      "3 4\n",
      "----------------\n",
      "7 1\n",
      "----------------\n",
      "This is a root system with  8  roots\n",
      "3 5\n",
      "----------------\n",
      "8 3\n",
      "----------------\n",
      "11 1\n",
      "----------------\n",
      "This is a root system with  12  roots\n"
     ]
    }
   ],
   "source": [
    "A2_5 = closure_of_roots([a1, a2, e3])\n",
    "H2_5 = closure_of_roots([a1, a3, e3])"
   ]
  },
  {
   "cell_type": "code",
   "execution_count": 15,
   "metadata": {},
   "outputs": [
    {
     "name": "stdout",
     "output_type": "stream",
     "text": [
      "True\n",
      "True\n",
      "False\n",
      "False\n",
      "True\n",
      "True\n",
      "True\n",
      "False\n",
      "False\n",
      "False\n",
      "True\n",
      "False\n"
     ]
    }
   ],
   "source": [
    "for i in A2_1:\n",
    "    print(i in A2_2)"
   ]
  },
  {
   "cell_type": "code",
   "execution_count": null,
   "metadata": {},
   "outputs": [
    {
     "name": "stdout",
     "output_type": "stream",
     "text": [
      "True\n",
      "True\n",
      "False\n",
      "False\n",
      "True\n",
      "True\n",
      "True\n",
      "True\n",
      "False\n",
      "False\n",
      "False\n",
      "False\n",
      "True\n",
      "True\n",
      "True\n",
      "False\n",
      "False\n",
      "False\n",
      "True\n",
      "False\n"
     ]
    }
   ],
   "source": [
    "for i in H2_1:\n",
    "    print(i in H2_2)"
   ]
  },
  {
   "cell_type": "code",
   "execution_count": null,
   "metadata": {},
   "outputs": [
    {
     "name": "stdout",
     "output_type": "stream",
     "text": [
      "True\n",
      "True\n",
      "False\n",
      "False\n",
      "True\n",
      "True\n",
      "True\n",
      "False\n",
      "False\n",
      "False\n",
      "True\n",
      "False\n"
     ]
    }
   ],
   "source": [
    "for i in A2_1:\n",
    "    print(i in A2_3)"
   ]
  },
  {
   "cell_type": "code",
   "execution_count": null,
   "metadata": {},
   "outputs": [
    {
     "name": "stdout",
     "output_type": "stream",
     "text": [
      "True\n",
      "True\n",
      "False\n",
      "False\n",
      "True\n",
      "True\n",
      "True\n",
      "True\n",
      "False\n",
      "False\n",
      "False\n",
      "False\n",
      "True\n",
      "True\n",
      "True\n",
      "False\n",
      "False\n",
      "False\n",
      "True\n",
      "False\n"
     ]
    }
   ],
   "source": [
    "for i in H2_1:\n",
    "    print(i in H2_3)"
   ]
  },
  {
   "cell_type": "code",
   "execution_count": null,
   "metadata": {},
   "outputs": [
    {
     "name": "stdout",
     "output_type": "stream",
     "text": [
      "True\n",
      "True\n",
      "True\n",
      "True\n",
      "True\n",
      "True\n",
      "True\n",
      "True\n",
      "True\n",
      "True\n",
      "True\n",
      "True\n"
     ]
    }
   ],
   "source": [
    "for i in A2_1:\n",
    "    print(i in A2_4)"
   ]
  },
  {
   "cell_type": "code",
   "execution_count": null,
   "metadata": {},
   "outputs": [
    {
     "name": "stdout",
     "output_type": "stream",
     "text": [
      "True\n",
      "True\n",
      "True\n",
      "True\n",
      "True\n",
      "True\n",
      "True\n",
      "True\n",
      "True\n",
      "True\n",
      "True\n",
      "True\n",
      "True\n",
      "True\n",
      "True\n",
      "True\n",
      "True\n",
      "True\n",
      "True\n",
      "True\n"
     ]
    }
   ],
   "source": [
    "for i in H2_1:\n",
    "    print(i in H2_4)"
   ]
  },
  {
   "cell_type": "code",
   "execution_count": null,
   "metadata": {},
   "outputs": [
    {
     "name": "stdout",
     "output_type": "stream",
     "text": [
      "True\n",
      "True\n",
      "True\n",
      "True\n",
      "True\n",
      "True\n",
      "True\n",
      "True\n",
      "True\n",
      "True\n",
      "True\n",
      "True\n"
     ]
    }
   ],
   "source": [
    "for i in A2_2:\n",
    "    print(i in A2_3)"
   ]
  },
  {
   "cell_type": "code",
   "execution_count": null,
   "metadata": {},
   "outputs": [
    {
     "name": "stdout",
     "output_type": "stream",
     "text": [
      "True\n",
      "True\n",
      "True\n",
      "True\n",
      "True\n",
      "True\n",
      "True\n",
      "True\n",
      "True\n",
      "True\n",
      "True\n",
      "True\n",
      "True\n",
      "True\n",
      "True\n",
      "True\n",
      "True\n",
      "True\n",
      "True\n",
      "True\n"
     ]
    }
   ],
   "source": [
    "for i in H2_2:\n",
    "    print(i in H2_3)"
   ]
  },
  {
   "cell_type": "code",
   "execution_count": null,
   "metadata": {},
   "outputs": [
    {
     "name": "stdout",
     "output_type": "stream",
     "text": [
      "True\n",
      "True\n",
      "False\n",
      "False\n",
      "True\n",
      "True\n",
      "True\n",
      "False\n",
      "False\n",
      "False\n",
      "True\n",
      "False\n"
     ]
    }
   ],
   "source": [
    "for i in A2_2:\n",
    "    print(i in A2_4)"
   ]
  },
  {
   "cell_type": "code",
   "execution_count": null,
   "metadata": {},
   "outputs": [
    {
     "name": "stdout",
     "output_type": "stream",
     "text": [
      "True\n",
      "True\n",
      "False\n",
      "False\n",
      "True\n",
      "True\n",
      "True\n",
      "True\n",
      "False\n",
      "False\n",
      "False\n",
      "False\n",
      "True\n",
      "True\n",
      "True\n",
      "False\n",
      "False\n",
      "False\n",
      "True\n",
      "False\n"
     ]
    }
   ],
   "source": [
    "for i in H2_2:\n",
    "    print(i in H2_4)"
   ]
  },
  {
   "cell_type": "code",
   "execution_count": null,
   "metadata": {},
   "outputs": [
    {
     "name": "stdout",
     "output_type": "stream",
     "text": [
      "True\n",
      "True\n",
      "False\n",
      "False\n",
      "True\n",
      "False\n",
      "True\n",
      "True\n",
      "True\n",
      "False\n",
      "False\n",
      "False\n"
     ]
    }
   ],
   "source": [
    "for i in A2_3:\n",
    "    print(i in A2_4)"
   ]
  },
  {
   "cell_type": "code",
   "execution_count": null,
   "metadata": {},
   "outputs": [
    {
     "name": "stdout",
     "output_type": "stream",
     "text": [
      "True\n",
      "True\n",
      "False\n",
      "False\n",
      "True\n",
      "False\n",
      "True\n",
      "True\n",
      "False\n",
      "True\n",
      "True\n",
      "False\n",
      "True\n",
      "False\n"
     ]
    }
   ],
   "source": [
    "for i in H2_3:\n",
    "    print(i in H2_4)"
   ]
  },
  {
   "cell_type": "code",
   "execution_count": null,
   "metadata": {},
   "outputs": [],
   "source": [
    "for i in A2_1:\n",
    "    if not (i in A2_2):\n",
    "        print (i)\n",
    "for i in A2_2:\n",
    "    if not (i in A2_1):\n",
    "        print (i)"
   ]
  },
  {
   "cell_type": "code",
   "execution_count": null,
   "metadata": {},
   "outputs": [],
   "source": []
  },
  {
   "cell_type": "markdown",
   "metadata": {},
   "source": [
    "# Check the case that is contained in $H_3/H_4$"
   ]
  },
  {
   "cell_type": "code",
   "execution_count": null,
   "metadata": {},
   "outputs": [],
   "source": [
    "tau=1/2*(1+sympy.sqrt(5))\n",
    "\n",
    "a1, a2, a3 = e2, 1/2*(-tau*e1-e2-(tau-1)*e3), e1\n",
    "\n",
    "simple_roots_4D = [a1*a1, a1*a2,  e1*e2*a2*e3, a2*e1*e2*e3]\n",
    "H4_RS=closure_of_roots_in_spin(simple_roots_4D)\n",
    "\n",
    "A = CM(simple_roots_4D)\n",
    "A"
   ]
  },
  {
   "cell_type": "code",
   "execution_count": null,
   "metadata": {},
   "outputs": [],
   "source": [
    "A2_1 = closure_of_roots_in_spin([a1*a1, a1*a2, a1*e1*e2*e3, a2*e1*e2*e3])\n",
    "H2_1 = closure_of_roots_in_spin([a1*a1, a2*a3, a2*e1*e2*e3, a3*e1*e2*e3])"
   ]
  },
  {
   "cell_type": "code",
   "execution_count": null,
   "metadata": {},
   "outputs": [],
   "source": [
    "for i in A2_1:\n",
    "    print(i in H4_RS)"
   ]
  },
  {
   "cell_type": "code",
   "execution_count": null,
   "metadata": {},
   "outputs": [],
   "source": []
  },
  {
   "cell_type": "code",
   "execution_count": null,
   "metadata": {},
   "outputs": [],
   "source": [
    "for i in H2_1:\n",
    "    print(i in H4_RS)"
   ]
  },
  {
   "cell_type": "markdown",
   "metadata": {},
   "source": [
    "All good and working as it should. $A_2\\oplus A_2$ and $H_2\\oplus H_2$ generated within $H_4$ just with the generators of $H_3$ and its inversion. "
   ]
  },
  {
   "cell_type": "code",
   "execution_count": null,
   "metadata": {},
   "outputs": [],
   "source": []
  },
  {
   "cell_type": "code",
   "execution_count": null,
   "metadata": {},
   "outputs": [],
   "source": []
  }
 ],
 "metadata": {
  "kernelspec": {
   "display_name": "Python 3",
   "language": "python",
   "name": "python3"
  },
  "language_info": {
   "codemirror_mode": {
    "name": "ipython",
    "version": 3
   },
   "file_extension": ".py",
   "mimetype": "text/x-python",
   "name": "python",
   "nbconvert_exporter": "python",
   "pygments_lexer": "ipython3",
   "version": "3.7.1"
  }
 },
 "nbformat": 4,
 "nbformat_minor": 2
}
