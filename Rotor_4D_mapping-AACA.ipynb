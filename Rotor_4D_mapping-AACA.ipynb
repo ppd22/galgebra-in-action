{
 "cells": [
  {
   "cell_type": "code",
   "execution_count": 1,
   "metadata": {},
   "outputs": [],
   "source": [
    "import sympy\n",
    "from sympy import symbols\n",
    "from galgebra.ga import Ga\n",
    "from galgebra.printer import latex\n",
    "from IPython.display import Math\n",
    "import numpy\n",
    "import math\n",
    "\n",
    "# tell sympy to use our printing by default\n",
    "sympy.init_printing(latex_printer=latex, use_latex='mathjax')\n",
    "\n",
    "s4coords = (u,x,y,z) = symbols('1 2 3 4', real=True)\n",
    "s4 = Ga('e',\n",
    "         g=[1,1,1,1],\n",
    "         coords=s4coords)\n",
    "\n",
    "M = s4.mv('M','mv',f = True)\n",
    "\n",
    "\n",
    "e1, e2, e3, e4 = s4.mv()\n",
    "\n"
   ]
  },
  {
   "cell_type": "code",
   "execution_count": 2,
   "metadata": {},
   "outputs": [
    {
     "data": {
      "text/latex": [
       "\\begin{equation*} a_{0}  + a_{3} \\boldsymbol{e}_{1}\\wedge \\boldsymbol{e}_{2} - a_{2} \\boldsymbol{e}_{1}\\wedge \\boldsymbol{e}_{3} + a_{1} \\boldsymbol{e}_{2}\\wedge \\boldsymbol{e}_{3} \\end{equation*}"
      ],
      "text/plain": [
       "a0 + a3*e_1^e_2 - a2*e_1^e_3 + a1*e_2^e_3"
      ]
     },
     "execution_count": 2,
     "metadata": {},
     "output_type": "execute_result"
    }
   ],
   "source": [
    "a0, a1, a2, a3 = symbols('a0 a1 a2 a3', real = True)\n",
    "\n",
    "B1=a0+a1*(e2^e3) - a2*(e1^e3) + a3*(e1^e2)\n",
    "\n",
    "B1"
   ]
  },
  {
   "cell_type": "code",
   "execution_count": 3,
   "metadata": {},
   "outputs": [
    {
     "data": {
      "text/latex": [
       "\\begin{equation*} b_{0}  + b_{3} \\boldsymbol{e}_{1}\\wedge \\boldsymbol{e}_{2} - b_{2} \\boldsymbol{e}_{1}\\wedge \\boldsymbol{e}_{3} + b_{1} \\boldsymbol{e}_{2}\\wedge \\boldsymbol{e}_{3} \\end{equation*}"
      ],
      "text/plain": [
       "b0 + b3*e_1^e_2 - b2*e_1^e_3 + b1*e_2^e_3"
      ]
     },
     "execution_count": 3,
     "metadata": {},
     "output_type": "execute_result"
    }
   ],
   "source": [
    "b0, b1, b2, b3 = symbols('b0 b1 b2 b3', real = True)\n",
    "\n",
    "B2=b0+b1*(e2^e3) - b2*(e1^e3) + b3*(e1^e2)\n",
    "\n",
    "B2\n"
   ]
  },
  {
   "cell_type": "code",
   "execution_count": 4,
   "metadata": {},
   "outputs": [
    {
     "data": {
      "text/latex": [
       "\\begin{equation*} \\left ( - {\\left ( a_{0} \\right )}^{2} b_{0} - 2 a_{0} a_{1} b_{1} - 2 a_{0} a_{2} b_{2} - 2 a_{0} a_{3} b_{3} + {\\left ( a_{1} \\right )}^{2} b_{0} + {\\left ( a_{2} \\right )}^{2} b_{0} + {\\left ( a_{3} \\right )}^{2} b_{0}\\right )  + \\left ( {\\left ( a_{0} \\right )}^{2} b_{3} - 2 a_{0} a_{3} b_{0} + {\\left ( a_{1} \\right )}^{2} b_{3} - 2 a_{1} a_{3} b_{1} + {\\left ( a_{2} \\right )}^{2} b_{3} - 2 a_{2} a_{3} b_{2} - {\\left ( a_{3} \\right )}^{2} b_{3}\\right ) \\boldsymbol{e}_{1}\\wedge \\boldsymbol{e}_{2} + \\left ( - {\\left ( a_{0} \\right )}^{2} b_{2} + 2 a_{0} a_{2} b_{0} - {\\left ( a_{1} \\right )}^{2} b_{2} + 2 a_{1} a_{2} b_{1} + {\\left ( a_{2} \\right )}^{2} b_{2} + 2 a_{2} a_{3} b_{3} - {\\left ( a_{3} \\right )}^{2} b_{2}\\right ) \\boldsymbol{e}_{1}\\wedge \\boldsymbol{e}_{3} + \\left ( {\\left ( a_{0} \\right )}^{2} b_{1} - 2 a_{0} a_{1} b_{0} - {\\left ( a_{1} \\right )}^{2} b_{1} - 2 a_{1} a_{2} b_{2} - 2 a_{1} a_{3} b_{3} + {\\left ( a_{2} \\right )}^{2} b_{1} + {\\left ( a_{3} \\right )}^{2} b_{1}\\right ) \\boldsymbol{e}_{2}\\wedge \\boldsymbol{e}_{3} \\end{equation*}"
      ],
      "text/plain": [
       "-a0**2*b0 - 2*a0*a1*b1 - 2*a0*a2*b2 - 2*a0*a3*b3 + a1**2*b0 + a2**2*b0 + a3**2*b0 + (a0**2*b3 - 2*a0*a3*b0 + a1**2*b3 - 2*a1*a3*b1 + a2**2*b3 - 2*a2*a3*b2 - a3**2*b3)*e_1^e_2 + (-a0**2*b2 + 2*a0*a2*b0 - a1**2*b2 + 2*a1*a2*b1 + a2**2*b2 + 2*a2*a3*b3 - a3**2*b2)*e_1^e_3 + (a0**2*b1 - 2*a0*a1*b0 - a1**2*b1 - 2*a1*a2*b2 - 2*a1*a3*b3 + a2**2*b1 + a3**2*b1)*e_2^e_3"
      ]
     },
     "execution_count": 4,
     "metadata": {},
     "output_type": "execute_result"
    }
   ],
   "source": [
    "-B1*B2.rev()*B1"
   ]
  },
  {
   "cell_type": "code",
   "execution_count": 5,
   "metadata": {},
   "outputs": [
    {
     "data": {
      "text/latex": [
       "\\begin{equation*} v_{1} \\boldsymbol{e}_{1} + v_{2} \\boldsymbol{e}_{2} + v_{3} \\boldsymbol{e}_{3} + v_{4} \\boldsymbol{e}_{4} \\end{equation*}"
      ],
      "text/plain": [
       "v1*e_1 + v2*e_2 + v3*e_3 + v4*e_4"
      ]
     },
     "execution_count": 5,
     "metadata": {},
     "output_type": "execute_result"
    }
   ],
   "source": [
    "v1, v2, v3, v4 = symbols('v1 v2 v3 v4', real = True)\n",
    "\n",
    "V=s4.mv([v1, v2, v3, v4], 'vector')\n",
    "V"
   ]
  },
  {
   "cell_type": "code",
   "execution_count": 6,
   "metadata": {},
   "outputs": [
    {
     "data": {
      "text/latex": [
       "\\begin{equation*} w_{1} \\boldsymbol{e}_{1} + w_{2} \\boldsymbol{e}_{2} + w_{3} \\boldsymbol{e}_{3} + w_{4} \\boldsymbol{e}_{4} \\end{equation*}"
      ],
      "text/plain": [
       "w1*e_1 + w2*e_2 + w3*e_3 + w4*e_4"
      ]
     },
     "execution_count": 6,
     "metadata": {},
     "output_type": "execute_result"
    }
   ],
   "source": [
    "w1, w2, w3, w4 = symbols('w1 w2 w3 w4', real = True)\n",
    "\n",
    "W=s4.mv([w1, w2, w3, w4], 'vector')\n",
    "W"
   ]
  },
  {
   "cell_type": "code",
   "execution_count": 7,
   "metadata": {},
   "outputs": [
    {
     "data": {
      "text/latex": [
       "\\begin{equation*} \\left ( - {\\left ( v_{1} \\right )}^{2} w_{1} - 2 v_{1} v_{2} w_{2} - 2 v_{1} v_{3} w_{3} - 2 v_{1} v_{4} w_{4} + {\\left ( v_{2} \\right )}^{2} w_{1} + {\\left ( v_{3} \\right )}^{2} w_{1} + {\\left ( v_{4} \\right )}^{2} w_{1}\\right ) \\boldsymbol{e}_{1} + \\left ( {\\left ( v_{1} \\right )}^{2} w_{2} - 2 v_{1} v_{2} w_{1} - {\\left ( v_{2} \\right )}^{2} w_{2} - 2 v_{2} v_{3} w_{3} - 2 v_{2} v_{4} w_{4} + {\\left ( v_{3} \\right )}^{2} w_{2} + {\\left ( v_{4} \\right )}^{2} w_{2}\\right ) \\boldsymbol{e}_{2} + \\left ( {\\left ( v_{1} \\right )}^{2} w_{3} - 2 v_{1} v_{3} w_{1} + {\\left ( v_{2} \\right )}^{2} w_{3} - 2 v_{2} v_{3} w_{2} - {\\left ( v_{3} \\right )}^{2} w_{3} - 2 v_{3} v_{4} w_{4} + {\\left ( v_{4} \\right )}^{2} w_{3}\\right ) \\boldsymbol{e}_{3} + \\left ( {\\left ( v_{1} \\right )}^{2} w_{4} - 2 v_{1} v_{4} w_{1} + {\\left ( v_{2} \\right )}^{2} w_{4} - 2 v_{2} v_{4} w_{2} + {\\left ( v_{3} \\right )}^{2} w_{4} - 2 v_{3} v_{4} w_{3} - {\\left ( v_{4} \\right )}^{2} w_{4}\\right ) \\boldsymbol{e}_{4} \\end{equation*}"
      ],
      "text/plain": [
       "(-v1**2*w1 - 2*v1*v2*w2 - 2*v1*v3*w3 - 2*v1*v4*w4 + v2**2*w1 + v3**2*w1 + v4**2*w1)*e_1 + (v1**2*w2 - 2*v1*v2*w1 - v2**2*w2 - 2*v2*v3*w3 - 2*v2*v4*w4 + v3**2*w2 + v4**2*w2)*e_2 + (v1**2*w3 - 2*v1*v3*w1 + v2**2*w3 - 2*v2*v3*w2 - v3**2*w3 - 2*v3*v4*w4 + v4**2*w3)*e_3 + (v1**2*w4 - 2*v1*v4*w1 + v2**2*w4 - 2*v2*v4*w2 + v3**2*w4 - 2*v3*v4*w3 - v4**2*w4)*e_4"
      ]
     },
     "execution_count": 7,
     "metadata": {},
     "output_type": "execute_result"
    }
   ],
   "source": [
    "-V*W*V"
   ]
  },
  {
   "cell_type": "code",
   "execution_count": 8,
   "metadata": {},
   "outputs": [
    {
     "data": {
      "text/latex": [
       "\\begin{equation*} \\left ( - {\\left ( a_{0} \\right )}^{2} b_{0} - 2 a_{0} a_{1} b_{1} - 2 a_{0} a_{2} b_{2} - 2 a_{0} a_{3} b_{3} + {\\left ( a_{1} \\right )}^{2} b_{0} + {\\left ( a_{2} \\right )}^{2} b_{0} + {\\left ( a_{3} \\right )}^{2} b_{0}\\right ) \\boldsymbol{e}_{1} + \\left ( {\\left ( a_{0} \\right )}^{2} b_{3} - 2 a_{0} a_{3} b_{0} + {\\left ( a_{1} \\right )}^{2} b_{3} - 2 a_{1} a_{3} b_{1} + {\\left ( a_{2} \\right )}^{2} b_{3} - 2 a_{2} a_{3} b_{2} - {\\left ( a_{3} \\right )}^{2} b_{3}\\right ) \\boldsymbol{e}_{2} + \\left ( - {\\left ( a_{0} \\right )}^{2} b_{2} + 2 a_{0} a_{2} b_{0} - {\\left ( a_{1} \\right )}^{2} b_{2} + 2 a_{1} a_{2} b_{1} + {\\left ( a_{2} \\right )}^{2} b_{2} + 2 a_{2} a_{3} b_{3} - {\\left ( a_{3} \\right )}^{2} b_{2}\\right ) \\boldsymbol{e}_{3} + \\left ( {\\left ( a_{0} \\right )}^{2} b_{1} - 2 a_{0} a_{1} b_{0} - {\\left ( a_{1} \\right )}^{2} b_{1} - 2 a_{1} a_{2} b_{2} - 2 a_{1} a_{3} b_{3} + {\\left ( a_{2} \\right )}^{2} b_{1} + {\\left ( a_{3} \\right )}^{2} b_{1}\\right ) \\boldsymbol{e}_{4} \\end{equation*}"
      ],
      "text/plain": [
       "(-a0**2*b0 - 2*a0*a1*b1 - 2*a0*a2*b2 - 2*a0*a3*b3 + a1**2*b0 + a2**2*b0 + a3**2*b0)*e_1 + (a0**2*b3 - 2*a0*a3*b0 + a1**2*b3 - 2*a1*a3*b1 + a2**2*b3 - 2*a2*a3*b2 - a3**2*b3)*e_2 + (-a0**2*b2 + 2*a0*a2*b0 - a1**2*b2 + 2*a1*a2*b1 + a2**2*b2 + 2*a2*a3*b3 - a3**2*b2)*e_3 + (a0**2*b1 - 2*a0*a1*b0 - a1**2*b1 - 2*a1*a2*b2 - 2*a1*a3*b3 + a2**2*b1 + a3**2*b1)*e_4"
      ]
     },
     "execution_count": 8,
     "metadata": {},
     "output_type": "execute_result"
    }
   ],
   "source": [
    "V=s4.mv([a0, a3, -a2, a1], 'vector') \n",
    "W=s4.mv([b0, b3, -b2, b1], 'vector') \n",
    "\n",
    "\n",
    "-V*W*V\n"
   ]
  },
  {
   "cell_type": "code",
   "execution_count": 9,
   "metadata": {},
   "outputs": [
    {
     "data": {
      "text/latex": [
       "$$\\left [ 0, \\quad - 2 a_{0} a_{3} b_{0} + 2 a_{0} a_{3} b_{0} - 2 a_{1} a_{3} b_{1} + 2 a_{1} a_{3} b_{1} - 2 a_{2} a_{3} b_{2} + 2 a_{2} a_{3} b_{2}, \\quad 0, \\quad - 2 a_{0} a_{1} b_{0} + 2 a_{0} a_{1} b_{0} - 2 a_{1} a_{2} b_{2} + 2 a_{1} a_{2} b_{2} - 2 a_{1} a_{3} b_{3} + 2 a_{1} a_{3} b_{3}\\right ]$$"
      ],
      "text/plain": [
       "[0, -2⋅a₀⋅a₃⋅b₀ + 2⋅a₀⋅a₃⋅b₀ - 2⋅a₁⋅a₃⋅b₁ + 2⋅a₁⋅a₃⋅b₁ - 2⋅a₂⋅a₃⋅b₂ + 2⋅a₂⋅a₃⋅\n",
       "b₂, 0, -2⋅a₀⋅a₁⋅b₀ + 2⋅a₀⋅a₁⋅b₀ - 2⋅a₁⋅a₂⋅b₂ + 2⋅a₁⋅a₂⋅b₂ - 2⋅a₁⋅a₃⋅b₃ + 2⋅a₁⋅\n",
       "a₃⋅b₃]"
      ]
     },
     "execution_count": 9,
     "metadata": {},
     "output_type": "execute_result"
    }
   ],
   "source": [
    "tmp1 = -B1*B2.rev()*B1\n",
    "tmp2 = -V*W*V\n",
    "\n",
    "tmp3 = [(tmp1.blade_coefs())[0], (tmp1.blade_coefs())[5], (tmp1.blade_coefs())[6], (tmp1.blade_coefs())[8]]\n",
    "tmp4 = [(tmp2.blade_coefs())[1], (tmp2.blade_coefs())[2], (tmp2.blade_coefs())[3], (tmp2.blade_coefs())[4]]\n",
    "\n",
    "tmp5 =  [(tmp1.blade_coefs())[0]-(tmp2.blade_coefs())[1], (tmp1.blade_coefs())[5]-(tmp2.blade_coefs())[2], (tmp1.blade_coefs())[6]-(tmp2.blade_coefs())[3], (tmp1.blade_coefs())[8]-(tmp2.blade_coefs())[4]]\n",
    "tmp5 "
   ]
  },
  {
   "cell_type": "code",
   "execution_count": 10,
   "metadata": {},
   "outputs": [
    {
     "name": "stdout",
     "output_type": "stream",
     "text": [
      "0\n",
      "0\n",
      "0\n",
      "0\n"
     ]
    }
   ],
   "source": [
    "print(sympy.simplify(tmp5[0]))\n",
    "print(sympy.simplify(tmp5[1]))\n",
    "print(sympy.simplify(tmp5[2]))\n",
    "print(sympy.simplify(tmp5[3]))"
   ]
  },
  {
   "cell_type": "code",
   "execution_count": null,
   "metadata": {},
   "outputs": [],
   "source": []
  },
  {
   "cell_type": "code",
   "execution_count": null,
   "metadata": {},
   "outputs": [],
   "source": []
  },
  {
   "cell_type": "code",
   "execution_count": null,
   "metadata": {},
   "outputs": [],
   "source": []
  }
 ],
 "metadata": {
  "kernelspec": {
   "display_name": "Python 3",
   "language": "python",
   "name": "python3"
  },
  "language_info": {
   "codemirror_mode": {
    "name": "ipython",
    "version": 3
   },
   "file_extension": ".py",
   "mimetype": "text/x-python",
   "name": "python",
   "nbconvert_exporter": "python",
   "pygments_lexer": "ipython3",
   "version": "3.7.1"
  }
 },
 "nbformat": 4,
 "nbformat_minor": 2
}
