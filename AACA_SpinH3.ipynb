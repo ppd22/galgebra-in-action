{
 "cells": [
  {
   "cell_type": "code",
   "execution_count": 1,
   "metadata": {},
   "outputs": [],
   "source": [
    "import sympy\n",
    "from sympy import symbols\n",
    "from galgebra.ga import Ga\n",
    "from galgebra.printer import latex\n",
    "from IPython.display import Math\n",
    "import numpy\n",
    "import math\n",
    "import random\n",
    "\n",
    "# tell sympy to use our printing by default\n",
    "sympy.init_printing(latex_printer=latex, use_latex='mathjax')\n",
    "\n",
    "s3coords = (x,y,z) = symbols('1 2 3', real=True)\n",
    "s3 = Ga('e',\n",
    "         g=[1,1,1],\n",
    "         coords=s3coords)\n",
    "\n",
    "M = s3.mv('M','mv',f = True)\n",
    "\n",
    "\n",
    "e1, e2, e3 = s3.mv()"
   ]
  },
  {
   "cell_type": "code",
   "execution_count": 2,
   "metadata": {},
   "outputs": [],
   "source": [
    "import copy\n",
    "from sympy.matrices import Matrix, eye, zeros, ones, diag, GramSchmidt\n",
    "\n",
    "def closure_of_generators(gens):\n",
    "    elts = copy.copy(gens)\n",
    "    new = copy.copy(gens)\n",
    "\n",
    "    while True:\n",
    "        new1 = [ ]\n",
    "        for u in new:\n",
    "            for v in gens:\n",
    "                tmp = u * v\n",
    "                if not tmp in elts:\n",
    "                    if not tmp in new1:\n",
    "                        new1.append(tmp)\n",
    "        if new1 == [ ]:\n",
    "            break\n",
    "        else:\n",
    "            print(len(elts),len(new1))\n",
    "            print('----------------')\n",
    "            elts = elts+new1\n",
    "            new = copy.copy(new1)\n",
    "    print('There are ', len(elts), ' elements in total.')\n",
    "    return elts\n",
    "\n",
    "def closure_of_roots(simples):\n",
    "    simple_roots = [a for a in simples]\n",
    "    roots = [a for a in simples]\n",
    "    new = [a for a in simples]\n",
    "    while 1==1:\n",
    "        new1 = [ ]\n",
    "        for u in new:\n",
    "            for n in simple_roots:\n",
    "                tmp = -n * u * n\n",
    "                if not tmp in roots:\n",
    "                    if not tmp in new1:\n",
    "                        new1.append(tmp)\n",
    "        if new1 == [ ]:\n",
    "            break\n",
    "        else:\n",
    "            print(len(roots),len(new1))\n",
    "            print('----------------')\n",
    "            roots = roots+new1\n",
    "            new = [a for a in new1]\n",
    "    print('This is a root system with ', len(roots), ' roots')\n",
    "    return roots\n",
    "\n",
    "def order_of_element(m):\n",
    "    tmp = m\n",
    "    count = 1\n",
    "    id = e1*e1\n",
    "    while tmp != id:\n",
    "        tmp = tmp*m\n",
    "        count += 1\n",
    "    return count\n",
    "\n",
    "def find_inverses(group):\n",
    "    g_inv = []\n",
    "    m = group[0]\n",
    "    id = e1*e1\n",
    "    for i in group:\n",
    "        for j in group:\n",
    "            if i*j == id:\n",
    "                g_inv.append(j)\n",
    "                break\n",
    "    return g_inv\n",
    "\n",
    "\n",
    "def conjugacy_classes(elts):\n",
    "    \n",
    "    elts_inv = find_inverses(elts)\n",
    "    classes = []\n",
    "    leftover = set(range(0,len(elts)))\n",
    "\n",
    "    for i in range(len(elts)):\n",
    "        if i in leftover:\n",
    "            newclass  = set([i])\n",
    "            for j in range(len(elts)):\n",
    "                if j != i:\n",
    "                    tmp = elts[j]*elts[i]*elts_inv[j]\n",
    "                    for k in range(len(elts)):\n",
    "                        if k in leftover:\n",
    "                            if tmp == elts[k]:\n",
    "                                newclass.add(k)\n",
    "                                leftover = leftover.difference([k])\n",
    "                                break\n",
    "            classes.append(newclass)\n",
    "            print(len(leftover))\n",
    "    return classes\n",
    "\n",
    "\n",
    "def spIP(R1, R2):\n",
    "    \n",
    "    ip = 1/2*(R1*R2.rev()+R2*R1.rev())\n",
    "    \n",
    "    return ip\n",
    "\n",
    "def CM(simple_roots_4D):\n",
    "\n",
    "    A = zeros(len(simple_roots_4D), len(simple_roots_4D))\n",
    "    for i in range(len(simple_roots_4D)):\n",
    "        for j in range(len(simple_roots_4D)):\n",
    "            tmp = spIP(simple_roots_4D[i], simple_roots_4D[j])\n",
    "            A[i,j]=2*tmp.blade_coefs()[0] \n",
    "    return A"
   ]
  },
  {
   "cell_type": "code",
   "execution_count": 3,
   "metadata": {},
   "outputs": [],
   "source": [
    "def find_ito_generators_recursive_pin(gens, given_element):\n",
    "    done = False\n",
    "    for g in range(len(gens)):\n",
    "        if gens[g] == given_element:\n",
    "            print('Done: generator', gens[g] , 'Generator ', g)\n",
    "            done = True\n",
    "            return gens[g]\n",
    "        \n",
    "    \n",
    "    elts = copy.copy(gens)\n",
    "    new = copy.copy(gens)\n",
    "    count = 0\n",
    "    while done == False:\n",
    "        new1 = [ ]\n",
    "        for u in new:\n",
    "            for v in range(len(gens)):\n",
    "                tmp = u * gens[v]\n",
    "                if not tmp in elts:\n",
    "                    if not tmp in new1:\n",
    "                        new1.append(tmp)\n",
    "                        count+=1\n",
    "                        #print(tmp, v)\n",
    "                        if given_element == tmp:\n",
    "                            print('-------')\n",
    "                            print('found it',  gens[v], 'Generator ',v)\n",
    "                            print('-------')\n",
    "                            find_ito_generators_recursive(gens, u)\n",
    "                            done = True\n",
    "                            break\n",
    "            \n",
    "        if new1 == [ ]:\n",
    "            break\n",
    "        else:\n",
    "            print(len(elts),len(new1))\n",
    "            print('----------------')\n",
    "            elts = elts+new1\n",
    "            new = copy.copy(new1)\n",
    "    print('There are ', len(elts), ' elements in total.')\n",
    "    return "
   ]
  },
  {
   "cell_type": "code",
   "execution_count": 4,
   "metadata": {},
   "outputs": [],
   "source": [
    "def closure_of_generators_words(gens):\n",
    "    elts = copy.copy(gens)\n",
    "    new = copy.copy(gens)\n",
    "    path = []\n",
    "    for i in range(len(gens)):\n",
    "        path.append(str(i+1))\n",
    "\n",
    "    while True:\n",
    "        new1 = [ ]\n",
    "        for j in range(len(new)):\n",
    "            for k in range(len(gens)):\n",
    "                tmp = new[j] * gens[k]\n",
    "                if not tmp in elts:\n",
    "                    if not tmp in new1:\n",
    "                        new1.append(tmp)\n",
    "                        path.append((path[len(elts)-len(new)+j])+str(k+1))\n",
    "                        print(tmp, 'generator path is ',(path[len(elts)-len(new)+j])+str(k+1))\n",
    "                        #print(len(elts)+len(new1), len(path), j)\n",
    "        if new1 == [ ]:\n",
    "            break\n",
    "        else:\n",
    "            print(len(elts),len(new1))\n",
    "            print('----------------')\n",
    "            elts = elts+new1\n",
    "            new = copy.copy(new1)\n",
    "    print('There are ', len(elts), ' elements in total.')\n",
    "    return elts, path"
   ]
  },
  {
   "cell_type": "code",
   "execution_count": 5,
   "metadata": {},
   "outputs": [],
   "source": [
    "def fourDvecto3Dspinor(vector):\n",
    "    a0 = vector[0]\n",
    "    a3 = vector[1]\n",
    "    a2 =-vector[2]\n",
    "    a1 = vector[3]\n",
    "    B =a0+a1*(e2^e3) - a2*(e1^e3) + a3*(e1^e2)\n",
    "    return B\n",
    "\n",
    "def reflect_spinor(R1, R2):\n",
    "    B = -R1*R2.rev()*R1\n",
    "    return B\n",
    "\n",
    "def closure_of_roots_in_spin(simples):\n",
    "    simple_roots = [a for a in simples]\n",
    "    roots = [a for a in simples]\n",
    "    new = [a for a in simples]\n",
    "    while 1==1:\n",
    "        new1 = [ ]\n",
    "        for u in new:\n",
    "            for n in simple_roots:\n",
    "                tmp = reflect_spinor(n, u) \n",
    "                if not tmp in roots:\n",
    "                    if not tmp in new1:\n",
    "                        new1.append(tmp)\n",
    "        if new1 == [ ]:\n",
    "            break\n",
    "        else:\n",
    "            print(len(roots),len(new1))\n",
    "            print('----------------')\n",
    "            roots = roots+new1\n",
    "            new = [a for a in new1]\n",
    "    print('This is a root system with ', len(roots), ' roots')\n",
    "    return roots\n",
    "\n",
    "def closure_of_roots_in_spin_limit(simples, limit):\n",
    "    simple_roots = [a for a in simples]\n",
    "    roots = [a for a in simples]\n",
    "    new = [a for a in simples]\n",
    "    while 1==1:\n",
    "        new1 = [ ]\n",
    "        for u in new:\n",
    "            for n in simple_roots:\n",
    "                tmp = reflect_spinor(n, u) \n",
    "                if not tmp in roots:\n",
    "                    if not tmp in new1:\n",
    "                        new1.append(tmp)\n",
    "        if new1 == [ ]:\n",
    "            break\n",
    "        else:\n",
    "            print(len(roots),len(new1))\n",
    "            print('----------------')\n",
    "            roots = roots+new1\n",
    "            new = [a for a in new1]\n",
    "            if len(roots)>limit:\n",
    "                break\n",
    "    print('This is a root system with ', len(roots), ' roots')\n",
    "    return roots"
   ]
  },
  {
   "cell_type": "code",
   "execution_count": 6,
   "metadata": {},
   "outputs": [],
   "source": [
    "def conjugacy_classes_quicker(elts):\n",
    "    \n",
    "    elts_inv = find_inverses_quicker(elts)\n",
    "    print('inverses found')\n",
    "    classes = []\n",
    "    leftover = set(range(0,len(elts)))\n",
    "\n",
    "    while len(leftover)>0:\n",
    "        i = random.choice(tuple(leftover))\n",
    "        newclass  = set([i])\n",
    "        for j in range(len(elts)):\n",
    "            if j != i:\n",
    "                tmp = elts[j]*elts[i]*elts_inv[j]\n",
    "                for k in range(len(elts)):\n",
    "                    if k in leftover:\n",
    "                        if tmp == elts[k]:\n",
    "                            newclass.add(k)\n",
    "                            leftover = leftover.difference([k])\n",
    "                            break\n",
    "        classes.append(newclass)\n",
    "        print(len(leftover))\n",
    "    return classes\n",
    "\n",
    "def find_inverses_quicker(group):\n",
    "    g_inv = []\n",
    "    id = e1*e1\n",
    "    for i in group:\n",
    "        j = i.rev()\n",
    "        if i*j == id:\n",
    "            g_inv.append(j)\n",
    "        elif i*j == -id:\n",
    "            g_inv.append(-j)\n",
    "        else:\n",
    "            print('theres a problem')\n",
    "    return g_inv"
   ]
  },
  {
   "cell_type": "markdown",
   "metadata": {},
   "source": [
    "# Setting up the $H_3$ simple roots and computing the pin and spin group in terms of words in the generators/simple roots"
   ]
  },
  {
   "cell_type": "code",
   "execution_count": 7,
   "metadata": {},
   "outputs": [
    {
     "name": "stdout",
     "output_type": "stream",
     "text": [
      "1 generator path is  11\n",
      "-0.5 + (0.25 + 0.25*sqrt(5))*e_1^e_2 + (-0.25*sqrt(5) + 0.25)*e_2^e_3 generator path is  12\n",
      "-e_1^e_2 generator path is  13\n",
      "-0.5 + (-0.25*sqrt(5) - 0.25)*e_1^e_2 + (-0.25 + 0.25*sqrt(5))*e_2^e_3 generator path is  21\n",
      "-0.25*sqrt(5) - 0.25 + 0.5*e_1^e_2 + (-0.25 + 0.25*sqrt(5))*e_1^e_3 generator path is  23\n",
      "e_1^e_2 generator path is  31\n",
      "-0.25*sqrt(5) - 0.25 - 0.5*e_1^e_2 + (-0.25*sqrt(5) + 0.25)*e_1^e_3 generator path is  32\n",
      "3 7\n",
      "----------------\n",
      "(0.25 + 0.25*sqrt(5))*e_1 - 0.5*e_2 + (-0.25 + 0.25*sqrt(5))*e_3 generator path is  121\n",
      "-0.5*e_1 + (-0.25*sqrt(5) - 0.25)*e_2 + (-0.25*sqrt(5) + 0.25)*e_1^e_2^e_3 generator path is  123\n",
      "-e_1 generator path is  131\n",
      "0.5*e_1 + (-0.25*sqrt(5) - 0.25)*e_2 + (-0.25 + 0.25*sqrt(5))*e_1^e_2^e_3 generator path is  132\n",
      "-0.5*e_1 + (0.25 + 0.25*sqrt(5))*e_2 + (-0.25 + 0.25*sqrt(5))*e_1^e_2^e_3 generator path is  213\n",
      "0.5*e_1 + (-0.25*sqrt(5) - 0.25)*e_2 + (-0.25*sqrt(5) + 0.25)*e_1^e_2^e_3 generator path is  231\n",
      "(-0.25 + 0.25*sqrt(5))*e_1 + (0.25 + 0.25*sqrt(5))*e_2 + 0.5*e_3 generator path is  232\n",
      "-0.5*e_1 + (0.25 + 0.25*sqrt(5))*e_2 + (-0.25*sqrt(5) + 0.25)*e_1^e_2^e_3 generator path is  312\n",
      "-e_2 generator path is  313\n",
      "-0.5*e_1 + (-0.25*sqrt(5) - 0.25)*e_2 + (-0.25 + 0.25*sqrt(5))*e_1^e_2^e_3 generator path is  321\n",
      "(-0.25*sqrt(5) - 0.25)*e_1 + 0.5*e_2 + (-0.25 + 0.25*sqrt(5))*e_3 generator path is  323\n",
      "10 11\n",
      "----------------\n",
      "0.25 + 0.25*sqrt(5) + 0.5*e_1^e_2 + (-0.25*sqrt(5) + 0.25)*e_1^e_3 generator path is  1213\n",
      "-0.25*sqrt(5) - 0.25 - 0.5*e_1^e_2 + (-0.25 + 0.25*sqrt(5))*e_1^e_3 generator path is  1231\n",
      "0.25 + 0.25*sqrt(5) + (-0.25*sqrt(5) + 0.25)*e_1^e_2 + 0.5*e_2^e_3 generator path is  1232\n",
      "0.25 + 0.25*sqrt(5) + 0.5*e_1^e_2 + (-0.25 + 0.25*sqrt(5))*e_1^e_3 generator path is  1312\n",
      "-1 generator path is  1313\n",
      "-0.25*sqrt(5) - 0.25 + 0.5*e_1^e_2 + (-0.25*sqrt(5) + 0.25)*e_1^e_3 generator path is  1321\n",
      "0.5 + (0.25 + 0.25*sqrt(5))*e_1^e_2 + (-0.25 + 0.25*sqrt(5))*e_2^e_3 generator path is  1323\n",
      "0.25 + 0.25*sqrt(5) - 0.5*e_1^e_2 + (-0.25*sqrt(5) + 0.25)*e_1^e_3 generator path is  2131\n",
      "(0.25 + 0.25*sqrt(5))*e_1^e_2 + (-0.25 + 0.25*sqrt(5))*e_1^e_3 - 0.5*e_2^e_3 generator path is  2132\n",
      "(-0.25*sqrt(5) - 0.25)*e_1^e_2 + (-0.25*sqrt(5) + 0.25)*e_1^e_3 + 0.5*e_2^e_3 generator path is  2312\n",
      "0.5 + (0.25 + 0.25*sqrt(5))*e_1^e_2 + (-0.25*sqrt(5) + 0.25)*e_2^e_3 generator path is  2313\n",
      "0.25 + 0.25*sqrt(5) + (-0.25 + 0.25*sqrt(5))*e_1^e_2 - 0.5*e_2^e_3 generator path is  2321\n",
      "-0.25 + 0.25*sqrt(5) + (-0.25*sqrt(5) - 0.25)*e_1^e_2 - 0.5*e_1^e_3 generator path is  2323\n",
      "0.25 + 0.25*sqrt(5) - 0.5*e_1^e_2 + (-0.25 + 0.25*sqrt(5))*e_1^e_3 generator path is  3121\n",
      "-0.5 + (-0.25*sqrt(5) - 0.25)*e_1^e_2 + (-0.25*sqrt(5) + 0.25)*e_2^e_3 generator path is  3123\n",
      "0.5 + (-0.25*sqrt(5) - 0.25)*e_1^e_2 + (-0.25 + 0.25*sqrt(5))*e_2^e_3 generator path is  3132\n",
      "-0.5 + (0.25 + 0.25*sqrt(5))*e_1^e_2 + (-0.25 + 0.25*sqrt(5))*e_2^e_3 generator path is  3213\n",
      "0.5 + (-0.25*sqrt(5) - 0.25)*e_1^e_2 + (-0.25*sqrt(5) + 0.25)*e_2^e_3 generator path is  3231\n",
      "-0.25 + 0.25*sqrt(5) + (0.25 + 0.25*sqrt(5))*e_1^e_2 + 0.5*e_1^e_3 generator path is  3232\n",
      "21 19\n",
      "----------------\n",
      "0.5*e_1 + (0.25 + 0.25*sqrt(5))*e_2 + (-0.25 + 0.25*sqrt(5))*e_1^e_2^e_3 generator path is  12131\n",
      "(-0.25*sqrt(5) - 0.25)*e_1 - 0.5*e_3 + (-0.25*sqrt(5) + 0.25)*e_1^e_2^e_3 generator path is  12132\n",
      "(0.25 + 0.25*sqrt(5))*e_1 + 0.5*e_3 + (-0.25 + 0.25*sqrt(5))*e_1^e_2^e_3 generator path is  12312\n",
      "(-0.25*sqrt(5) - 0.25)*e_1 + 0.5*e_2 + (-0.25*sqrt(5) + 0.25)*e_3 generator path is  12313\n",
      "(-0.25*sqrt(5) + 0.25)*e_1 + (0.25 + 0.25*sqrt(5))*e_2 - 0.5*e_3 generator path is  12321\n",
      "(0.25 + 0.25*sqrt(5))*e_1 + (-0.25 + 0.25*sqrt(5))*e_2 + 0.5*e_1^e_2^e_3 generator path is  12323\n",
      "0.5*e_1 + (0.25 + 0.25*sqrt(5))*e_2 + (-0.25*sqrt(5) + 0.25)*e_1^e_2^e_3 generator path is  13121\n",
      "(0.25 + 0.25*sqrt(5))*e_1 - 0.5*e_2 + (-0.25*sqrt(5) + 0.25)*e_3 generator path is  13123\n",
      "(0.25 + 0.25*sqrt(5))*e_1 + 0.5*e_2 + (-0.25 + 0.25*sqrt(5))*e_3 generator path is  13132\n",
      "(-0.25*sqrt(5) - 0.25)*e_1 - 0.5*e_2 + (-0.25 + 0.25*sqrt(5))*e_3 generator path is  13213\n",
      "(0.25 + 0.25*sqrt(5))*e_1 + 0.5*e_2 + (-0.25*sqrt(5) + 0.25)*e_3 generator path is  13231\n",
      "(-0.25*sqrt(5) - 0.25)*e_1 + (-0.25 + 0.25*sqrt(5))*e_2 - 0.5*e_1^e_2^e_3 generator path is  13232\n",
      "(-0.25*sqrt(5) + 0.25)*e_1 + (-0.25*sqrt(5) - 0.25)*e_2 - 0.5*e_3 generator path is  21312\n",
      "(0.25 + 0.25*sqrt(5))*e_1 + 0.5*e_3 + (-0.25*sqrt(5) + 0.25)*e_1^e_2^e_3 generator path is  21321\n",
      "(-0.25*sqrt(5) - 0.25)*e_2 + (-0.25*sqrt(5) + 0.25)*e_3 - 0.5*e_1^e_2^e_3 generator path is  21323\n",
      "(-0.25*sqrt(5) - 0.25)*e_1 - 0.5*e_3 + (-0.25 + 0.25*sqrt(5))*e_1^e_2^e_3 generator path is  23121\n",
      "(0.25 + 0.25*sqrt(5))*e_2 + (-0.25 + 0.25*sqrt(5))*e_3 + 0.5*e_1^e_2^e_3 generator path is  23123\n",
      "(0.25 + 0.25*sqrt(5))*e_1 + (-0.25*sqrt(5) + 0.25)*e_2 - 0.5*e_1^e_2^e_3 generator path is  23213\n",
      "(-0.25*sqrt(5) - 0.25)*e_1 + (-0.25 + 0.25*sqrt(5))*e_2 + 0.5*e_1^e_2^e_3 generator path is  23231\n",
      "(-0.25 + 0.25*sqrt(5))*e_1 + (-0.25*sqrt(5) - 0.25)*e_2 - 0.5*e_3 generator path is  23232\n",
      "(0.25 + 0.25*sqrt(5))*e_1 + (-0.25*sqrt(5) + 0.25)*e_2 + 0.5*e_1^e_2^e_3 generator path is  31232\n",
      "(0.25 + 0.25*sqrt(5))*e_2 + (-0.25 + 0.25*sqrt(5))*e_3 - 0.5*e_1^e_2^e_3 generator path is  32132\n",
      "(-0.25*sqrt(5) - 0.25)*e_2 + (-0.25*sqrt(5) + 0.25)*e_3 + 0.5*e_1^e_2^e_3 generator path is  32312\n",
      "(0.25 + 0.25*sqrt(5))*e_1 + (-0.25 + 0.25*sqrt(5))*e_2 - 0.5*e_1^e_2^e_3 generator path is  32321\n",
      "40 24\n",
      "----------------\n",
      "-0.25*sqrt(5) - 0.25 + (-0.25 + 0.25*sqrt(5))*e_1^e_2 - 0.5*e_2^e_3 generator path is  121312\n",
      "(-0.25*sqrt(5) - 0.25)*e_1^e_2 + (-0.25 + 0.25*sqrt(5))*e_1^e_3 + 0.5*e_2^e_3 generator path is  121321\n",
      "-0.25*sqrt(5) - 0.25 + 0.5*e_1^e_3 + (-0.25*sqrt(5) + 0.25)*e_2^e_3 generator path is  121323\n",
      "(0.25 + 0.25*sqrt(5))*e_1^e_2 + (-0.25*sqrt(5) + 0.25)*e_1^e_3 - 0.5*e_2^e_3 generator path is  123121\n",
      "0.25 + 0.25*sqrt(5) - 0.5*e_1^e_3 + (-0.25 + 0.25*sqrt(5))*e_2^e_3 generator path is  123123\n",
      "-0.25*sqrt(5) + 0.25 + (-0.25*sqrt(5) - 0.25)*e_1^e_2 + 0.5*e_1^e_3 generator path is  123213\n",
      "-0.25 + 0.25*sqrt(5) + (0.25 + 0.25*sqrt(5))*e_1^e_2 - 0.5*e_1^e_3 generator path is  123231\n",
      "-0.25*sqrt(5) - 0.25 + (-0.25*sqrt(5) + 0.25)*e_1^e_2 - 0.5*e_2^e_3 generator path is  123232\n",
      "-0.25*sqrt(5) + 0.25 + (-0.25*sqrt(5) - 0.25)*e_1^e_2 - 0.5*e_1^e_3 generator path is  131232\n",
      "0.25 + 0.25*sqrt(5) + 0.5*e_1^e_3 + (-0.25 + 0.25*sqrt(5))*e_2^e_3 generator path is  132132\n",
      "-0.25*sqrt(5) - 0.25 - 0.5*e_1^e_3 + (-0.25*sqrt(5) + 0.25)*e_2^e_3 generator path is  132312\n",
      "-0.25 + 0.25*sqrt(5) + (-0.25*sqrt(5) - 0.25)*e_1^e_2 + 0.5*e_1^e_3 generator path is  132321\n",
      "-0.25*sqrt(5) - 0.25 + (-0.25*sqrt(5) + 0.25)*e_1^e_2 + 0.5*e_2^e_3 generator path is  213121\n",
      "-0.25*sqrt(5) + 0.25 + (0.25 + 0.25*sqrt(5))*e_1^e_2 + 0.5*e_1^e_3 generator path is  213123\n",
      "0.25 + 0.25*sqrt(5) - 0.5*e_1^e_3 + (-0.25*sqrt(5) + 0.25)*e_2^e_3 generator path is  213213\n",
      "-0.25*sqrt(5) - 0.25 + 0.5*e_1^e_3 + (-0.25 + 0.25*sqrt(5))*e_2^e_3 generator path is  213231\n",
      "0.5 - 0.5*e_1^e_2 - 0.5*e_1^e_3 + 0.5*e_2^e_3 generator path is  213232\n",
      "-0.5 + 0.5*e_1^e_2 + 0.5*e_1^e_3 - 0.5*e_2^e_3 generator path is  231232\n",
      "-0.5 - 0.5*e_1^e_2 - 0.5*e_1^e_3 + 0.5*e_2^e_3 generator path is  232132\n",
      "0.5 + 0.5*e_1^e_2 + 0.5*e_1^e_3 - 0.5*e_2^e_3 generator path is  232312\n",
      "-0.25*sqrt(5) - 0.25 + (-0.25 + 0.25*sqrt(5))*e_1^e_2 + 0.5*e_2^e_3 generator path is  232321\n",
      "-0.25*sqrt(5) + 0.25 + (0.25 + 0.25*sqrt(5))*e_1^e_2 - 0.5*e_1^e_3 generator path is  312321\n",
      "0.25 + 0.25*sqrt(5) + (-0.25 + 0.25*sqrt(5))*e_1^e_2 + 0.5*e_2^e_3 generator path is  312323\n",
      "0.25 + 0.25*sqrt(5) + 0.5*e_1^e_3 + (-0.25*sqrt(5) + 0.25)*e_2^e_3 generator path is  321321\n",
      "(-0.25*sqrt(5) - 0.25)*e_1^e_2 + (-0.25*sqrt(5) + 0.25)*e_1^e_3 - 0.5*e_2^e_3 generator path is  321323\n",
      "-0.25*sqrt(5) - 0.25 - 0.5*e_1^e_3 + (-0.25 + 0.25*sqrt(5))*e_2^e_3 generator path is  323121\n",
      "(0.25 + 0.25*sqrt(5))*e_1^e_2 + (-0.25 + 0.25*sqrt(5))*e_1^e_3 + 0.5*e_2^e_3 generator path is  323123\n",
      "0.25 + 0.25*sqrt(5) + (-0.25*sqrt(5) + 0.25)*e_1^e_2 - 0.5*e_2^e_3 generator path is  323213\n",
      "64 28\n",
      "----------------\n",
      "(-0.25 + 0.25*sqrt(5))*e_1 + (-0.25*sqrt(5) - 0.25)*e_2 + 0.5*e_3 generator path is  1213121\n",
      "(-0.25*sqrt(5) - 0.25)*e_1 + (-0.25*sqrt(5) + 0.25)*e_2 - 0.5*e_1^e_2^e_3 generator path is  1213123\n"
     ]
    },
    {
     "name": "stdout",
     "output_type": "stream",
     "text": [
      "(0.25 + 0.25*sqrt(5))*e_2 + (-0.25*sqrt(5) + 0.25)*e_3 + 0.5*e_1^e_2^e_3 generator path is  1213213\n",
      "(-0.25*sqrt(5) - 0.25)*e_2 + (-0.25 + 0.25*sqrt(5))*e_3 - 0.5*e_1^e_2^e_3 generator path is  1213231\n",
      "0.5*e_1 + 0.5*e_2 + 0.5*e_3 + 0.5*e_1^e_2^e_3 generator path is  1213232\n",
      "-0.5*e_1 - 0.5*e_2 - 0.5*e_3 - 0.5*e_1^e_2^e_3 generator path is  1231232\n",
      "0.5*e_1 - 0.5*e_2 + 0.5*e_3 + 0.5*e_1^e_2^e_3 generator path is  1232132\n",
      "-0.5*e_1 + 0.5*e_2 - 0.5*e_3 - 0.5*e_1^e_2^e_3 generator path is  1232312\n",
      "(-0.25*sqrt(5) + 0.25)*e_1 + (-0.25*sqrt(5) - 0.25)*e_2 + 0.5*e_3 generator path is  1232321\n",
      "(-0.25*sqrt(5) - 0.25)*e_1 + (-0.25*sqrt(5) + 0.25)*e_2 + 0.5*e_1^e_2^e_3 generator path is  1312321\n",
      "(-0.25*sqrt(5) + 0.25)*e_1 + (0.25 + 0.25*sqrt(5))*e_2 + 0.5*e_3 generator path is  1312323\n",
      "(0.25 + 0.25*sqrt(5))*e_2 + (-0.25*sqrt(5) + 0.25)*e_3 - 0.5*e_1^e_2^e_3 generator path is  1321321\n",
      "(0.25 + 0.25*sqrt(5))*e_1 - 0.5*e_3 + (-0.25 + 0.25*sqrt(5))*e_1^e_2^e_3 generator path is  1321323\n",
      "(-0.25*sqrt(5) - 0.25)*e_2 + (-0.25 + 0.25*sqrt(5))*e_3 + 0.5*e_1^e_2^e_3 generator path is  1323121\n",
      "(-0.25*sqrt(5) - 0.25)*e_1 + 0.5*e_3 + (-0.25*sqrt(5) + 0.25)*e_1^e_2^e_3 generator path is  1323123\n",
      "(-0.25 + 0.25*sqrt(5))*e_1 + (0.25 + 0.25*sqrt(5))*e_2 - 0.5*e_3 generator path is  1323213\n",
      "-0.5*e_1 + (-0.25*sqrt(5) + 0.25)*e_2 + (-0.25*sqrt(5) - 0.25)*e_3 generator path is  2132132\n",
      "0.5*e_1 + (-0.25 + 0.25*sqrt(5))*e_2 + (0.25 + 0.25*sqrt(5))*e_3 generator path is  2132312\n",
      "-0.5*e_1 + 0.5*e_2 - 0.5*e_3 + 0.5*e_1^e_2^e_3 generator path is  2132321\n",
      "0.5*e_1 - 0.5*e_2 + 0.5*e_3 - 0.5*e_1^e_2^e_3 generator path is  2312321\n",
      "-0.5*e_1 - 0.5*e_2 - 0.5*e_3 + 0.5*e_1^e_2^e_3 generator path is  2321321\n",
      "-0.5*e_1 + 0.5*e_2 + 0.5*e_3 + 0.5*e_1^e_2^e_3 generator path is  2321323\n",
      "0.5*e_1 + 0.5*e_2 + 0.5*e_3 - 0.5*e_1^e_2^e_3 generator path is  2323121\n",
      "0.5*e_1 - 0.5*e_2 - 0.5*e_3 - 0.5*e_1^e_2^e_3 generator path is  2323123\n",
      "(0.25 + 0.25*sqrt(5))*e_1 - 0.5*e_3 + (-0.25*sqrt(5) + 0.25)*e_1^e_2^e_3 generator path is  3213213\n",
      "(-0.25*sqrt(5) - 0.25)*e_1 + 0.5*e_3 + (-0.25 + 0.25*sqrt(5))*e_1^e_2^e_3 generator path is  3213231\n",
      "0.5*e_1 - 0.5*e_2 - 0.5*e_3 + 0.5*e_1^e_2^e_3 generator path is  3213232\n",
      "-0.5*e_1 + 0.5*e_2 + 0.5*e_3 - 0.5*e_1^e_2^e_3 generator path is  3231232\n",
      "92 28\n",
      "----------------\n",
      "-0.25*sqrt(5) + 0.25 + 0.5*e_1^e_2 + (-0.25*sqrt(5) - 0.25)*e_2^e_3 generator path is  12132132\n",
      "-0.25 + 0.25*sqrt(5) - 0.5*e_1^e_2 + (0.25 + 0.25*sqrt(5))*e_2^e_3 generator path is  12132312\n",
      "0.5 + 0.5*e_1^e_2 - 0.5*e_1^e_3 - 0.5*e_2^e_3 generator path is  12132321\n",
      "-0.5 - 0.5*e_1^e_2 + 0.5*e_1^e_3 + 0.5*e_2^e_3 generator path is  12312321\n",
      "-0.5 + 0.5*e_1^e_2 - 0.5*e_1^e_3 - 0.5*e_2^e_3 generator path is  12321321\n",
      "0.5 + 0.5*e_1^e_2 - 0.5*e_1^e_3 + 0.5*e_2^e_3 generator path is  12321323\n",
      "0.5 - 0.5*e_1^e_2 + 0.5*e_1^e_3 + 0.5*e_2^e_3 generator path is  12323121\n",
      "-0.5 - 0.5*e_1^e_2 + 0.5*e_1^e_3 - 0.5*e_2^e_3 generator path is  12323123\n",
      "(-0.25*sqrt(5) - 0.25)*e_1^e_2 + (-0.25 + 0.25*sqrt(5))*e_1^e_3 - 0.5*e_2^e_3 generator path is  13213213\n",
      "(0.25 + 0.25*sqrt(5))*e_1^e_2 + (-0.25*sqrt(5) + 0.25)*e_1^e_3 + 0.5*e_2^e_3 generator path is  13213231\n",
      "-0.5 - 0.5*e_1^e_2 - 0.5*e_1^e_3 - 0.5*e_2^e_3 generator path is  13213232\n",
      "0.5 + 0.5*e_1^e_2 + 0.5*e_1^e_3 + 0.5*e_2^e_3 generator path is  13231232\n",
      "-0.25*sqrt(5) + 0.25 - 0.5*e_1^e_2 + (0.25 + 0.25*sqrt(5))*e_2^e_3 generator path is  21321321\n",
      "-0.5 + (-0.25 + 0.25*sqrt(5))*e_1^e_2 + (0.25 + 0.25*sqrt(5))*e_1^e_3 generator path is  21321323\n",
      "-0.25 + 0.25*sqrt(5) + 0.5*e_1^e_2 + (-0.25*sqrt(5) - 0.25)*e_2^e_3 generator path is  21323121\n",
      "0.5 + (-0.25*sqrt(5) + 0.25)*e_1^e_2 + (-0.25*sqrt(5) - 0.25)*e_1^e_3 generator path is  21323123\n",
      "-0.5 + 0.5*e_1^e_2 + 0.5*e_1^e_3 + 0.5*e_2^e_3 generator path is  23213213\n",
      "0.5 - 0.5*e_1^e_2 - 0.5*e_1^e_3 - 0.5*e_2^e_3 generator path is  23213231\n",
      "0.5*e_1^e_2 + (0.25 + 0.25*sqrt(5))*e_1^e_3 + (-0.25*sqrt(5) + 0.25)*e_2^e_3 generator path is  23213232\n",
      "-0.5*e_1^e_2 + (-0.25*sqrt(5) - 0.25)*e_1^e_3 + (-0.25 + 0.25*sqrt(5))*e_2^e_3 generator path is  23231232\n",
      "-0.5 + (-0.25*sqrt(5) + 0.25)*e_1^e_2 + (-0.25*sqrt(5) - 0.25)*e_1^e_3 generator path is  32132132\n",
      "0.5 + (-0.25 + 0.25*sqrt(5))*e_1^e_2 + (0.25 + 0.25*sqrt(5))*e_1^e_3 generator path is  32132312\n",
      "-0.5 + 0.5*e_1^e_2 - 0.5*e_1^e_3 + 0.5*e_2^e_3 generator path is  32132321\n",
      "0.5 - 0.5*e_1^e_2 + 0.5*e_1^e_3 - 0.5*e_2^e_3 generator path is  32312321\n",
      "120 24\n",
      "----------------\n",
      "0.5*e_1 + (-0.25*sqrt(5) + 0.25)*e_2 + (0.25 + 0.25*sqrt(5))*e_3 generator path is  121321321\n",
      "(-0.25*sqrt(5) + 0.25)*e_1 - 0.5*e_2 + (-0.25*sqrt(5) - 0.25)*e_1^e_2^e_3 generator path is  121321323\n",
      "-0.5*e_1 + (-0.25 + 0.25*sqrt(5))*e_2 + (-0.25*sqrt(5) - 0.25)*e_3 generator path is  121323121\n",
      "(-0.25 + 0.25*sqrt(5))*e_1 + 0.5*e_2 + (0.25 + 0.25*sqrt(5))*e_1^e_2^e_3 generator path is  121323123\n",
      "-0.5*e_1 - 0.5*e_2 + 0.5*e_3 - 0.5*e_1^e_2^e_3 generator path is  123213213\n",
      "0.5*e_1 + 0.5*e_2 - 0.5*e_3 + 0.5*e_1^e_2^e_3 generator path is  123213231\n",
      "-0.5*e_1 + (-0.25*sqrt(5) + 0.25)*e_3 + (-0.25*sqrt(5) - 0.25)*e_1^e_2^e_3 generator path is  123213232\n",
      "0.5*e_1 + (-0.25 + 0.25*sqrt(5))*e_3 + (0.25 + 0.25*sqrt(5))*e_1^e_2^e_3 generator path is  123231232\n",
      "(-0.25 + 0.25*sqrt(5))*e_1 - 0.5*e_2 + (0.25 + 0.25*sqrt(5))*e_1^e_2^e_3 generator path is  132132132\n",
      "(-0.25*sqrt(5) + 0.25)*e_1 + 0.5*e_2 + (-0.25*sqrt(5) - 0.25)*e_1^e_2^e_3 generator path is  132132312\n",
      "-0.5*e_1 - 0.5*e_2 + 0.5*e_3 + 0.5*e_1^e_2^e_3 generator path is  132132321\n",
      "0.5*e_1 + 0.5*e_2 - 0.5*e_3 - 0.5*e_1^e_2^e_3 generator path is  132312321\n",
      "(-0.25*sqrt(5) + 0.25)*e_1 + 0.5*e_2 + (0.25 + 0.25*sqrt(5))*e_1^e_2^e_3 generator path is  213213213\n",
      "(-0.25 + 0.25*sqrt(5))*e_1 - 0.5*e_2 + (-0.25*sqrt(5) - 0.25)*e_1^e_2^e_3 generator path is  213213231\n",
      "0.5*e_2 + (0.25 + 0.25*sqrt(5))*e_3 + (-0.25 + 0.25*sqrt(5))*e_1^e_2^e_3 generator path is  213213232\n",
      "-0.5*e_2 + (-0.25*sqrt(5) - 0.25)*e_3 + (-0.25*sqrt(5) + 0.25)*e_1^e_2^e_3 generator path is  213231232\n",
      "0.5*e_2 + (0.25 + 0.25*sqrt(5))*e_3 + (-0.25*sqrt(5) + 0.25)*e_1^e_2^e_3 generator path is  232132132\n",
      "-0.5*e_2 + (-0.25*sqrt(5) - 0.25)*e_3 + (-0.25 + 0.25*sqrt(5))*e_1^e_2^e_3 generator path is  232132312\n",
      "0.5*e_1 + (-0.25 + 0.25*sqrt(5))*e_3 + (-0.25*sqrt(5) - 0.25)*e_1^e_2^e_3 generator path is  232132321\n",
      "-0.5*e_1 + (-0.25*sqrt(5) + 0.25)*e_3 + (0.25 + 0.25*sqrt(5))*e_1^e_2^e_3 generator path is  232312321\n",
      "(-0.25*sqrt(5) + 0.25)*e_1 - 0.5*e_2 + (0.25 + 0.25*sqrt(5))*e_1^e_2^e_3 generator path is  321321321\n",
      "-0.5*e_1 + (-0.25 + 0.25*sqrt(5))*e_2 + (0.25 + 0.25*sqrt(5))*e_3 generator path is  321321323\n",
      "(-0.25 + 0.25*sqrt(5))*e_1 + 0.5*e_2 + (-0.25*sqrt(5) - 0.25)*e_1^e_2^e_3 generator path is  321323121\n",
      "0.5*e_1 + (-0.25*sqrt(5) + 0.25)*e_2 + (-0.25*sqrt(5) - 0.25)*e_3 generator path is  321323123\n",
      "144 24\n",
      "----------------\n",
      "0.5 + (-0.25 + 0.25*sqrt(5))*e_1^e_2 + (-0.25*sqrt(5) - 0.25)*e_1^e_3 generator path is  1213213213\n",
      "-0.5 + (-0.25*sqrt(5) + 0.25)*e_1^e_2 + (0.25 + 0.25*sqrt(5))*e_1^e_3 generator path is  1213213231\n",
      "0.5 + (-0.25*sqrt(5) + 0.25)*e_1^e_3 + (0.25 + 0.25*sqrt(5))*e_2^e_3 generator path is  1213213232\n",
      "-0.5 + (-0.25 + 0.25*sqrt(5))*e_1^e_3 + (-0.25*sqrt(5) - 0.25)*e_2^e_3 generator path is  1213231232\n",
      "0.5 + (-0.25 + 0.25*sqrt(5))*e_1^e_3 + (0.25 + 0.25*sqrt(5))*e_2^e_3 generator path is  1232132132\n",
      "-0.5 + (-0.25*sqrt(5) + 0.25)*e_1^e_3 + (-0.25*sqrt(5) - 0.25)*e_2^e_3 generator path is  1232132312\n",
      "-0.5*e_1^e_2 + (0.25 + 0.25*sqrt(5))*e_1^e_3 + (-0.25 + 0.25*sqrt(5))*e_2^e_3 generator path is  1232132321\n",
      "0.5*e_1^e_2 + (-0.25*sqrt(5) - 0.25)*e_1^e_3 + (-0.25*sqrt(5) + 0.25)*e_2^e_3 generator path is  1232312321\n",
      "-0.5 + (-0.25 + 0.25*sqrt(5))*e_1^e_2 + (-0.25*sqrt(5) - 0.25)*e_1^e_3 generator path is  1321321321\n",
      "-0.25 + 0.25*sqrt(5) + 0.5*e_1^e_2 + (0.25 + 0.25*sqrt(5))*e_2^e_3 generator path is  1321321323\n",
      "0.5 + (-0.25*sqrt(5) + 0.25)*e_1^e_2 + (0.25 + 0.25*sqrt(5))*e_1^e_3 generator path is  1321323121\n",
      "-0.25*sqrt(5) + 0.25 - 0.5*e_1^e_2 + (-0.25*sqrt(5) - 0.25)*e_2^e_3 generator path is  1321323123\n",
      "(-0.25 + 0.25*sqrt(5))*e_1^e_2 + 0.5*e_1^e_3 + (-0.25*sqrt(5) - 0.25)*e_2^e_3 generator path is  2132132132\n",
      "(-0.25*sqrt(5) + 0.25)*e_1^e_2 - 0.5*e_1^e_3 + (0.25 + 0.25*sqrt(5))*e_2^e_3 generator path is  2132132312\n",
      "0.5 + (-0.25*sqrt(5) + 0.25)*e_1^e_3 + (-0.25*sqrt(5) - 0.25)*e_2^e_3 generator path is  2132132321\n"
     ]
    },
    {
     "name": "stdout",
     "output_type": "stream",
     "text": [
      "-0.5 + (-0.25 + 0.25*sqrt(5))*e_1^e_3 + (0.25 + 0.25*sqrt(5))*e_2^e_3 generator path is  2132312321\n",
      "0.5 + (-0.25 + 0.25*sqrt(5))*e_1^e_3 + (-0.25*sqrt(5) - 0.25)*e_2^e_3 generator path is  2321321321\n",
      "-0.5*e_1^e_2 + (-0.25*sqrt(5) - 0.25)*e_1^e_3 + (-0.25*sqrt(5) + 0.25)*e_2^e_3 generator path is  2321321323\n",
      "-0.5 + (-0.25*sqrt(5) + 0.25)*e_1^e_3 + (0.25 + 0.25*sqrt(5))*e_2^e_3 generator path is  2321323121\n",
      "0.5*e_1^e_2 + (0.25 + 0.25*sqrt(5))*e_1^e_3 + (-0.25 + 0.25*sqrt(5))*e_2^e_3 generator path is  2321323123\n",
      "-0.25*sqrt(5) + 0.25 + 0.5*e_1^e_2 + (0.25 + 0.25*sqrt(5))*e_2^e_3 generator path is  3213213213\n",
      "-0.25 + 0.25*sqrt(5) - 0.5*e_1^e_2 + (-0.25*sqrt(5) - 0.25)*e_2^e_3 generator path is  3213213231\n",
      "168 22\n",
      "----------------\n",
      "(-0.25*sqrt(5) + 0.25)*e_1 + (-0.25*sqrt(5) - 0.25)*e_3 - 0.5*e_1^e_2^e_3 generator path is  12132132132\n",
      "(-0.25 + 0.25*sqrt(5))*e_1 + (0.25 + 0.25*sqrt(5))*e_3 + 0.5*e_1^e_2^e_3 generator path is  12132132312\n",
      "0.5*e_2 + (-0.25*sqrt(5) - 0.25)*e_3 + (-0.25 + 0.25*sqrt(5))*e_1^e_2^e_3 generator path is  12132132321\n",
      "-0.5*e_2 + (0.25 + 0.25*sqrt(5))*e_3 + (-0.25*sqrt(5) + 0.25)*e_1^e_2^e_3 generator path is  12132312321\n",
      "0.5*e_2 + (-0.25*sqrt(5) - 0.25)*e_3 + (-0.25*sqrt(5) + 0.25)*e_1^e_2^e_3 generator path is  12321321321\n",
      "0.5*e_1 + (-0.25*sqrt(5) + 0.25)*e_3 + (0.25 + 0.25*sqrt(5))*e_1^e_2^e_3 generator path is  12321321323\n",
      "-0.5*e_2 + (0.25 + 0.25*sqrt(5))*e_3 + (-0.25 + 0.25*sqrt(5))*e_1^e_2^e_3 generator path is  12321323121\n",
      "-0.5*e_1 + (-0.25 + 0.25*sqrt(5))*e_3 + (-0.25*sqrt(5) - 0.25)*e_1^e_2^e_3 generator path is  12321323123\n",
      "-0.5*e_1 + (-0.25*sqrt(5) + 0.25)*e_2 + (0.25 + 0.25*sqrt(5))*e_3 generator path is  13213213213\n",
      "0.5*e_1 + (-0.25 + 0.25*sqrt(5))*e_2 + (-0.25*sqrt(5) - 0.25)*e_3 generator path is  13213213231\n",
      "(-0.25 + 0.25*sqrt(5))*e_1 + (0.25 + 0.25*sqrt(5))*e_3 - 0.5*e_1^e_2^e_3 generator path is  21321321321\n",
      "(-0.25*sqrt(5) + 0.25)*e_2 - 0.5*e_3 + (-0.25*sqrt(5) - 0.25)*e_1^e_2^e_3 generator path is  21321321323\n",
      "(-0.25*sqrt(5) + 0.25)*e_1 + (-0.25*sqrt(5) - 0.25)*e_3 + 0.5*e_1^e_2^e_3 generator path is  21321323121\n",
      "(-0.25 + 0.25*sqrt(5))*e_2 + 0.5*e_3 + (0.25 + 0.25*sqrt(5))*e_1^e_2^e_3 generator path is  21321323123\n",
      "0.5*e_1 + (-0.25*sqrt(5) + 0.25)*e_3 + (-0.25*sqrt(5) - 0.25)*e_1^e_2^e_3 generator path is  23213213213\n",
      "-0.5*e_1 + (-0.25 + 0.25*sqrt(5))*e_3 + (0.25 + 0.25*sqrt(5))*e_1^e_2^e_3 generator path is  23213213231\n",
      "(-0.25 + 0.25*sqrt(5))*e_2 + 0.5*e_3 + (-0.25*sqrt(5) - 0.25)*e_1^e_2^e_3 generator path is  32132132132\n",
      "(-0.25*sqrt(5) + 0.25)*e_2 - 0.5*e_3 + (0.25 + 0.25*sqrt(5))*e_1^e_2^e_3 generator path is  32132132312\n",
      "190 18\n",
      "----------------\n",
      "(-0.25*sqrt(5) + 0.25)*e_1^e_2 + 0.5*e_1^e_3 + (0.25 + 0.25*sqrt(5))*e_2^e_3 generator path is  121321321321\n",
      "-0.25*sqrt(5) + 0.25 + (0.25 + 0.25*sqrt(5))*e_1^e_3 - 0.5*e_2^e_3 generator path is  121321321323\n",
      "(-0.25 + 0.25*sqrt(5))*e_1^e_2 - 0.5*e_1^e_3 + (-0.25*sqrt(5) - 0.25)*e_2^e_3 generator path is  121321323121\n",
      "-0.25 + 0.25*sqrt(5) + (-0.25*sqrt(5) - 0.25)*e_1^e_3 + 0.5*e_2^e_3 generator path is  121321323123\n",
      "-0.5*e_1^e_2 + (0.25 + 0.25*sqrt(5))*e_1^e_3 + (-0.25*sqrt(5) + 0.25)*e_2^e_3 generator path is  123213213213\n",
      "0.5*e_1^e_2 + (-0.25*sqrt(5) - 0.25)*e_1^e_3 + (-0.25 + 0.25*sqrt(5))*e_2^e_3 generator path is  123213213231\n",
      "-0.25 + 0.25*sqrt(5) + (0.25 + 0.25*sqrt(5))*e_1^e_3 + 0.5*e_2^e_3 generator path is  132132132132\n",
      "-0.25*sqrt(5) + 0.25 + (-0.25*sqrt(5) - 0.25)*e_1^e_3 - 0.5*e_2^e_3 generator path is  132132132312\n",
      "-0.25 + 0.25*sqrt(5) + (-0.25*sqrt(5) - 0.25)*e_1^e_3 - 0.5*e_2^e_3 generator path is  213213213213\n",
      "-0.25*sqrt(5) + 0.25 + (0.25 + 0.25*sqrt(5))*e_1^e_3 + 0.5*e_2^e_3 generator path is  213213213231\n",
      "-0.25*sqrt(5) + 0.25 + (-0.25*sqrt(5) - 0.25)*e_1^e_3 + 0.5*e_2^e_3 generator path is  232132132132\n",
      "-0.25 + 0.25*sqrt(5) + (0.25 + 0.25*sqrt(5))*e_1^e_3 - 0.5*e_2^e_3 generator path is  232132132312\n",
      "(-0.25*sqrt(5) + 0.25)*e_1^e_2 - 0.5*e_1^e_3 + (-0.25*sqrt(5) - 0.25)*e_2^e_3 generator path is  321321321323\n",
      "(-0.25 + 0.25*sqrt(5))*e_1^e_2 + 0.5*e_1^e_3 + (0.25 + 0.25*sqrt(5))*e_2^e_3 generator path is  321321323123\n",
      "208 14\n",
      "----------------\n",
      "(-0.25 + 0.25*sqrt(5))*e_2 - 0.5*e_3 + (0.25 + 0.25*sqrt(5))*e_1^e_2^e_3 generator path is  1213213213213\n",
      "(-0.25*sqrt(5) + 0.25)*e_2 + 0.5*e_3 + (-0.25*sqrt(5) - 0.25)*e_1^e_2^e_3 generator path is  1213213213231\n",
      "(-0.25*sqrt(5) + 0.25)*e_2 + 0.5*e_3 + (0.25 + 0.25*sqrt(5))*e_1^e_2^e_3 generator path is  1232132132132\n",
      "(-0.25 + 0.25*sqrt(5))*e_2 - 0.5*e_3 + (-0.25*sqrt(5) - 0.25)*e_1^e_2^e_3 generator path is  1232132132312\n",
      "(-0.25 + 0.25*sqrt(5))*e_1 + (-0.25*sqrt(5) - 0.25)*e_3 + 0.5*e_1^e_2^e_3 generator path is  1321321321323\n",
      "(-0.25*sqrt(5) + 0.25)*e_1 + (0.25 + 0.25*sqrt(5))*e_3 - 0.5*e_1^e_2^e_3 generator path is  1321321323123\n",
      "-1.0*e_3 generator path is  2132132132132\n",
      "1.0*e_3 generator path is  2132132132312\n",
      "(-0.25*sqrt(5) + 0.25)*e_1 + (0.25 + 0.25*sqrt(5))*e_3 + 0.5*e_1^e_2^e_3 generator path is  2321321321323\n",
      "(-0.25 + 0.25*sqrt(5))*e_1 + (-0.25*sqrt(5) - 0.25)*e_3 - 0.5*e_1^e_2^e_3 generator path is  2321321323123\n",
      "222 10\n",
      "----------------\n",
      "-1.0*e_2^e_3 generator path is  12132132132132\n",
      "1.0*e_2^e_3 generator path is  12132132132312\n",
      "(-0.25 + 0.25*sqrt(5))*e_1^e_2 - 0.5*e_1^e_3 + (0.25 + 0.25*sqrt(5))*e_2^e_3 generator path is  12321321321323\n",
      "(-0.25*sqrt(5) + 0.25)*e_1^e_2 + 0.5*e_1^e_3 + (-0.25*sqrt(5) - 0.25)*e_2^e_3 generator path is  12321321323123\n",
      "1.0*e_1^e_3 generator path is  21321321321323\n",
      "-1.0*e_1^e_3 generator path is  21321321323123\n",
      "232 6\n",
      "----------------\n",
      "-1.0*e_1^e_2^e_3 generator path is  121321321321323\n",
      "1.0*e_1^e_2^e_3 generator path is  121321321323123\n",
      "238 2\n",
      "----------------\n",
      "There are  240  elements in total.\n"
     ]
    }
   ],
   "source": [
    "tau=1/2*(1+sympy.sqrt(5))\n",
    "\n",
    "a1, a2, a3 = e2, 1/2*(-tau*e1-e2-(tau-1)*e3), e1\n",
    "\n",
    "Pin_H3_elts, Pin_H3_paths = closure_of_generators_words([a1, a2, a3])"
   ]
  },
  {
   "cell_type": "code",
   "execution_count": null,
   "metadata": {},
   "outputs": [],
   "source": []
  },
  {
   "cell_type": "markdown",
   "metadata": {},
   "source": [
    "# Calculate conjugacy classes"
   ]
  },
  {
   "cell_type": "code",
   "execution_count": 84,
   "metadata": {},
   "outputs": [
    {
     "name": "stdout",
     "output_type": "stream",
     "text": [
      "inverses found\n",
      "220\n",
      "208\n",
      "178\n",
      "166\n",
      "154\n",
      "134\n",
      "104\n",
      "92\n",
      "80\n",
      "60\n",
      "48\n",
      "36\n",
      "24\n",
      "23\n",
      "22\n",
      "2\n",
      "1\n",
      "0\n"
     ]
    }
   ],
   "source": [
    "pin_CC_H3 = conjugacy_classes_quicker(Pin_H3_elts)"
   ]
  },
  {
   "cell_type": "code",
   "execution_count": 185,
   "metadata": {},
   "outputs": [
    {
     "name": "stdout",
     "output_type": "stream",
     "text": [
      "\n",
      "  \\hline \n",
      "\n",
      "12 52 (-0.5*sqrt(5) - 0.5)*e_1 + (-0.5 + 0.5*sqrt(5))*e_2 - 1.0*e_1^e_2^e_3 13232\n",
      "12 55 (-0.5*sqrt(5) - 0.5)*e_2 + (-0.5*sqrt(5) + 0.5)*e_3 - 1.0*e_1^e_2^e_3 21323\n",
      "12 58 (0.5 + 0.5*sqrt(5))*e_1 + (-0.5*sqrt(5) + 0.5)*e_2 - 1.0*e_1^e_2^e_3 23213\n",
      "12 62 (0.5 + 0.5*sqrt(5))*e_2 + (-0.5 + 0.5*sqrt(5))*e_3 - 1.0*e_1^e_2^e_3 32132\n",
      "12 64 (0.5 + 0.5*sqrt(5))*e_1 + (-0.5 + 0.5*sqrt(5))*e_2 - 1.0*e_1^e_2^e_3 32321\n",
      "12 94 (-0.5*sqrt(5) - 0.5)*e_1 + (-0.5*sqrt(5) + 0.5)*e_2 - 1.0*e_1^e_2^e_3 1213123\n",
      "12 96 (-0.5*sqrt(5) - 0.5)*e_2 + (-0.5 + 0.5*sqrt(5))*e_3 - 1.0*e_1^e_2^e_3 1213231\n",
      "12 98 -1.0*e_1 - 1.0*e_2 - 1.0*e_3 - 1.0*e_1^e_2^e_3 1231232\n",
      "12 100 -1.0*e_1 + 1.0*e_2 - 1.0*e_3 - 1.0*e_1^e_2^e_3 1232312\n",
      "12 104 (0.5 + 0.5*sqrt(5))*e_2 + (-0.5*sqrt(5) + 0.5)*e_3 - 1.0*e_1^e_2^e_3 1321321\n",
      "12 112 1.0*e_1 - 1.0*e_2 + 1.0*e_3 - 1.0*e_1^e_2^e_3 2312321\n",
      "12 115 1.0*e_1 + 1.0*e_2 + 1.0*e_3 - 1.0*e_1^e_2^e_3 2323121\n",
      "12 116 1.0*e_1 - 1.0*e_2 - 1.0*e_3 - 1.0*e_1^e_2^e_3 2323123\n",
      "12 120 -1.0*e_1 + 1.0*e_2 + 1.0*e_3 - 1.0*e_1^e_2^e_3 3231232\n",
      "12 149 -1.0*e_1 - 1.0*e_2 + 1.0*e_3 - 1.0*e_1^e_2^e_3 123213213\n",
      "12 156 1.0*e_1 + 1.0*e_2 - 1.0*e_3 - 1.0*e_1^e_2^e_3 132312321\n",
      "12 191 (-0.5*sqrt(5) + 0.5)*e_1 + (-0.5*sqrt(5) - 0.5)*e_3 - 1.0*e_1^e_2^e_3 12132132132\n",
      "12 201 (-0.5 + 0.5*sqrt(5))*e_1 + (0.5 + 0.5*sqrt(5))*e_3 - 1.0*e_1^e_2^e_3 21321321321\n",
      "12 228 (-0.5*sqrt(5) + 0.5)*e_1 + (0.5 + 0.5*sqrt(5))*e_3 - 1.0*e_1^e_2^e_3 1321321323123\n",
      "12 232 (-0.5 + 0.5*sqrt(5))*e_1 + (-0.5*sqrt(5) - 0.5)*e_3 - 1.0*e_1^e_2^e_3 2321321323123\n",
      "\n",
      "  \\hline \n",
      "\n",
      "5 34 -0.5 + 0.5*sqrt(5) + (-0.5*sqrt(5) - 0.5)*e_1^e_2 - 1.0*e_1^e_3 2323\n",
      "5 40 -0.5 + 0.5*sqrt(5) + (0.5 + 0.5*sqrt(5))*e_1^e_2 + 1.0*e_1^e_3 3232\n",
      "5 71 -0.5 + 0.5*sqrt(5) + (0.5 + 0.5*sqrt(5))*e_1^e_2 - 1.0*e_1^e_3 123231\n",
      "5 76 -0.5 + 0.5*sqrt(5) + (-0.5*sqrt(5) - 0.5)*e_1^e_2 + 1.0*e_1^e_3 132321\n",
      "5 122 -0.5 + 0.5*sqrt(5) - 1.0*e_1^e_2 + (0.5 + 0.5*sqrt(5))*e_2^e_3 12132312\n",
      "5 135 -0.5 + 0.5*sqrt(5) + 1.0*e_1^e_2 + (-0.5*sqrt(5) - 0.5)*e_2^e_3 21323121\n",
      "5 178 -0.5 + 0.5*sqrt(5) + 1.0*e_1^e_2 + (0.5 + 0.5*sqrt(5))*e_2^e_3 1321321323\n",
      "5 190 -0.5 + 0.5*sqrt(5) - 1.0*e_1^e_2 + (-0.5*sqrt(5) - 0.5)*e_2^e_3 3213213231\n",
      "5 212 -0.5 + 0.5*sqrt(5) + (-0.5*sqrt(5) - 0.5)*e_1^e_3 + 1.0*e_2^e_3 121321323123\n",
      "5 215 -0.5 + 0.5*sqrt(5) + (0.5 + 0.5*sqrt(5))*e_1^e_3 + 1.0*e_2^e_3 132132132132\n",
      "5 217 -0.5 + 0.5*sqrt(5) + (-0.5*sqrt(5) - 0.5)*e_1^e_3 - 1.0*e_2^e_3 213213213213\n",
      "5 220 -0.5 + 0.5*sqrt(5) + (0.5 + 0.5*sqrt(5))*e_1^e_3 - 1.0*e_2^e_3 232132132312\n",
      "\n",
      "  \\hline \n",
      "\n",
      "2 1 2*e_2 1\n",
      "2 2 (-0.5*sqrt(5) - 0.5)*e_1 - 1.0*e_2 + (-0.5*sqrt(5) + 0.5)*e_3 2\n",
      "2 3 2*e_1 3\n",
      "2 11 (0.5 + 0.5*sqrt(5))*e_1 - 1.0*e_2 + (-0.5 + 0.5*sqrt(5))*e_3 121\n",
      "2 13 -2*e_1 131\n",
      "2 17 (-0.5 + 0.5*sqrt(5))*e_1 + (0.5 + 0.5*sqrt(5))*e_2 + 1.0*e_3 232\n",
      "2 19 -2*e_2 313\n",
      "2 21 (-0.5*sqrt(5) - 0.5)*e_1 + 1.0*e_2 + (-0.5 + 0.5*sqrt(5))*e_3 323\n",
      "2 44 (-0.5*sqrt(5) - 0.5)*e_1 + 1.0*e_2 + (-0.5*sqrt(5) + 0.5)*e_3 12313\n",
      "2 45 (-0.5*sqrt(5) + 0.5)*e_1 + (0.5 + 0.5*sqrt(5))*e_2 - 1.0*e_3 12321\n",
      "2 48 (0.5 + 0.5*sqrt(5))*e_1 - 1.0*e_2 + (-0.5*sqrt(5) + 0.5)*e_3 13123\n",
      "2 49 (0.5 + 0.5*sqrt(5))*e_1 + 1.0*e_2 + (-0.5 + 0.5*sqrt(5))*e_3 13132\n",
      "2 50 (-0.5*sqrt(5) - 0.5)*e_1 - 1.0*e_2 + (-0.5 + 0.5*sqrt(5))*e_3 13213\n",
      "2 51 (0.5 + 0.5*sqrt(5))*e_1 + 1.0*e_2 + (-0.5*sqrt(5) + 0.5)*e_3 13231\n",
      "2 53 (-0.5*sqrt(5) + 0.5)*e_1 + (-0.5*sqrt(5) - 0.5)*e_2 - 1.0*e_3 21312\n",
      "2 60 (-0.5 + 0.5*sqrt(5))*e_1 + (-0.5*sqrt(5) - 0.5)*e_2 - 1.0*e_3 23232\n",
      "2 93 (-0.5 + 0.5*sqrt(5))*e_1 + (-0.5*sqrt(5) - 0.5)*e_2 + 1.0*e_3 1213121\n",
      "2 101 (-0.5*sqrt(5) + 0.5)*e_1 + (-0.5*sqrt(5) - 0.5)*e_2 + 1.0*e_3 1232321\n",
      "2 103 (-0.5*sqrt(5) + 0.5)*e_1 + (0.5 + 0.5*sqrt(5))*e_2 + 1.0*e_3 1312323\n",
      "2 108 (-0.5 + 0.5*sqrt(5))*e_1 + (0.5 + 0.5*sqrt(5))*e_2 - 1.0*e_3 1323213\n",
      "2 109 -1.0*e_1 + (-0.5*sqrt(5) + 0.5)*e_2 + (-0.5*sqrt(5) - 0.5)*e_3 2132132\n",
      "2 110 1.0*e_1 + (-0.5 + 0.5*sqrt(5))*e_2 + (0.5 + 0.5*sqrt(5))*e_3 2132312\n",
      "2 145 1.0*e_1 + (-0.5*sqrt(5) + 0.5)*e_2 + (0.5 + 0.5*sqrt(5))*e_3 121321321\n",
      "2 147 -1.0*e_1 + (-0.5 + 0.5*sqrt(5))*e_2 + (-0.5*sqrt(5) - 0.5)*e_3 121323121\n",
      "2 166 -1.0*e_1 + (-0.5 + 0.5*sqrt(5))*e_2 + (0.5 + 0.5*sqrt(5))*e_3 321321323\n",
      "2 168 1.0*e_1 + (-0.5*sqrt(5) + 0.5)*e_2 + (-0.5*sqrt(5) - 0.5)*e_3 321323123\n",
      "2 199 -1.0*e_1 + (-0.5*sqrt(5) + 0.5)*e_2 + (0.5 + 0.5*sqrt(5))*e_3 13213213213\n",
      "2 200 1.0*e_1 + (-0.5 + 0.5*sqrt(5))*e_2 + (-0.5*sqrt(5) - 0.5)*e_3 13213213231\n",
      "2 229 -2.0*e_3 2132132132132\n",
      "2 230 2.0*e_3 2132132132312\n",
      "\n",
      "  \\hline \n",
      "\n",
      "5 8 -0.5*sqrt(5) - 0.5 + 1.0*e_1^e_2 + (-0.5 + 0.5*sqrt(5))*e_1^e_3 23\n",
      "5 10 -0.5*sqrt(5) - 0.5 - 1.0*e_1^e_2 + (-0.5*sqrt(5) + 0.5)*e_1^e_3 32\n",
      "5 23 -0.5*sqrt(5) - 0.5 - 1.0*e_1^e_2 + (-0.5 + 0.5*sqrt(5))*e_1^e_3 1231\n",
      "5 27 -0.5*sqrt(5) - 0.5 + 1.0*e_1^e_2 + (-0.5*sqrt(5) + 0.5)*e_1^e_3 1321\n",
      "5 65 -0.5*sqrt(5) - 0.5 + (-0.5 + 0.5*sqrt(5))*e_1^e_2 - 1.0*e_2^e_3 121312\n",
      "5 67 -0.5*sqrt(5) - 0.5 + 1.0*e_1^e_3 + (-0.5*sqrt(5) + 0.5)*e_2^e_3 121323\n",
      "5 72 -0.5*sqrt(5) - 0.5 + (-0.5*sqrt(5) + 0.5)*e_1^e_2 - 1.0*e_2^e_3 123232\n",
      "5 75 -0.5*sqrt(5) - 0.5 - 1.0*e_1^e_3 + (-0.5*sqrt(5) + 0.5)*e_2^e_3 132312\n",
      "5 77 -0.5*sqrt(5) - 0.5 + (-0.5*sqrt(5) + 0.5)*e_1^e_2 + 1.0*e_2^e_3 213121\n",
      "5 80 -0.5*sqrt(5) - 0.5 + 1.0*e_1^e_3 + (-0.5 + 0.5*sqrt(5))*e_2^e_3 213231\n",
      "5 85 -0.5*sqrt(5) - 0.5 + (-0.5 + 0.5*sqrt(5))*e_1^e_2 + 1.0*e_2^e_3 232321\n",
      "5 90 -0.5*sqrt(5) - 0.5 - 1.0*e_1^e_3 + (-0.5 + 0.5*sqrt(5))*e_2^e_3 323121\n",
      "\n",
      "  \\hline \n",
      "\n",
      "10 22 0.5 + 0.5*sqrt(5) + 1.0*e_1^e_2 + (-0.5*sqrt(5) + 0.5)*e_1^e_3 1213\n",
      "10 24 0.5 + 0.5*sqrt(5) + (-0.5*sqrt(5) + 0.5)*e_1^e_2 + 1.0*e_2^e_3 1232\n",
      "10 25 0.5 + 0.5*sqrt(5) + 1.0*e_1^e_2 + (-0.5 + 0.5*sqrt(5))*e_1^e_3 1312\n",
      "10 29 0.5 + 0.5*sqrt(5) - 1.0*e_1^e_2 + (-0.5*sqrt(5) + 0.5)*e_1^e_3 2131\n",
      "10 33 0.5 + 0.5*sqrt(5) + (-0.5 + 0.5*sqrt(5))*e_1^e_2 - 1.0*e_2^e_3 2321\n",
      "10 35 0.5 + 0.5*sqrt(5) - 1.0*e_1^e_2 + (-0.5 + 0.5*sqrt(5))*e_1^e_3 3121\n",
      "10 69 0.5 + 0.5*sqrt(5) - 1.0*e_1^e_3 + (-0.5 + 0.5*sqrt(5))*e_2^e_3 123123\n",
      "10 74 0.5 + 0.5*sqrt(5) + 1.0*e_1^e_3 + (-0.5 + 0.5*sqrt(5))*e_2^e_3 132132\n",
      "10 79 0.5 + 0.5*sqrt(5) - 1.0*e_1^e_3 + (-0.5*sqrt(5) + 0.5)*e_2^e_3 213213\n",
      "10 87 0.5 + 0.5*sqrt(5) + (-0.5 + 0.5*sqrt(5))*e_1^e_2 + 1.0*e_2^e_3 312323\n",
      "10 88 0.5 + 0.5*sqrt(5) + 1.0*e_1^e_3 + (-0.5*sqrt(5) + 0.5)*e_2^e_3 321321\n",
      "10 92 0.5 + 0.5*sqrt(5) + (-0.5*sqrt(5) + 0.5)*e_1^e_2 - 1.0*e_2^e_3 323213\n",
      "\n",
      "  \\hline \n",
      "\n",
      "3 5 -1.0 + (0.5 + 0.5*sqrt(5))*e_1^e_2 + (-0.5*sqrt(5) + 0.5)*e_2^e_3 12\n",
      "3 7 -1.0 + (-0.5*sqrt(5) - 0.5)*e_1^e_2 + (-0.5 + 0.5*sqrt(5))*e_2^e_3 21\n",
      "3 36 -1.0 + (-0.5*sqrt(5) - 0.5)*e_1^e_2 + (-0.5*sqrt(5) + 0.5)*e_2^e_3 3123\n",
      "3 38 -1.0 + (0.5 + 0.5*sqrt(5))*e_1^e_2 + (-0.5 + 0.5*sqrt(5))*e_2^e_3 3213\n",
      "3 82 -1.0 + 1.0*e_1^e_2 + 1.0*e_1^e_3 - 1.0*e_2^e_3 231232\n",
      "3 83 -1.0 - 1.0*e_1^e_2 - 1.0*e_1^e_3 + 1.0*e_2^e_3 232132\n",
      "3 124 -1.0 - 1.0*e_1^e_2 + 1.0*e_1^e_3 + 1.0*e_2^e_3 12312321\n",
      "3 125 -1.0 + 1.0*e_1^e_2 - 1.0*e_1^e_3 - 1.0*e_2^e_3 12321321\n",
      "3 128 -1.0 - 1.0*e_1^e_2 + 1.0*e_1^e_3 - 1.0*e_2^e_3 12323123\n",
      "3 131 -1.0 - 1.0*e_1^e_2 - 1.0*e_1^e_3 - 1.0*e_2^e_3 13213232\n",
      "3 134 -1.0 + (-0.5 + 0.5*sqrt(5))*e_1^e_2 + (0.5 + 0.5*sqrt(5))*e_1^e_3 21321323\n",
      "3 137 -1.0 + 1.0*e_1^e_2 + 1.0*e_1^e_3 + 1.0*e_2^e_3 23213213\n",
      "3 141 -1.0 + (-0.5*sqrt(5) + 0.5)*e_1^e_2 + (-0.5*sqrt(5) - 0.5)*e_1^e_3 32132132\n",
      "3 143 -1.0 + 1.0*e_1^e_2 - 1.0*e_1^e_3 + 1.0*e_2^e_3 32132321\n",
      "3 170 -1.0 + (-0.5*sqrt(5) + 0.5)*e_1^e_2 + (0.5 + 0.5*sqrt(5))*e_1^e_3 1213213231\n",
      "3 172 -1.0 + (-0.5 + 0.5*sqrt(5))*e_1^e_3 + (-0.5*sqrt(5) - 0.5)*e_2^e_3 1213231232\n",
      "3 174 -1.0 + (-0.5*sqrt(5) + 0.5)*e_1^e_3 + (-0.5*sqrt(5) - 0.5)*e_2^e_3 1232132312\n",
      "3 177 -1.0 + (-0.5 + 0.5*sqrt(5))*e_1^e_2 + (-0.5*sqrt(5) - 0.5)*e_1^e_3 1321321321\n",
      "3 184 -1.0 + (-0.5 + 0.5*sqrt(5))*e_1^e_3 + (0.5 + 0.5*sqrt(5))*e_2^e_3 2132312321\n",
      "3 187 -1.0 + (-0.5*sqrt(5) + 0.5)*e_1^e_3 + (0.5 + 0.5*sqrt(5))*e_2^e_3 2321323121\n",
      "\n",
      "  \\hline \n",
      "\n",
      "4 6 -2*e_1^e_2 13\n",
      "4 9 2*e_1^e_2 31\n",
      "4 30 (0.5 + 0.5*sqrt(5))*e_1^e_2 + (-0.5 + 0.5*sqrt(5))*e_1^e_3 - 1.0*e_2^e_3 2132\n",
      "4 31 (-0.5*sqrt(5) - 0.5)*e_1^e_2 + (-0.5*sqrt(5) + 0.5)*e_1^e_3 + 1.0*e_2^e_3 2312\n",
      "4 66 (-0.5*sqrt(5) - 0.5)*e_1^e_2 + (-0.5 + 0.5*sqrt(5))*e_1^e_3 + 1.0*e_2^e_3 121321\n",
      "4 68 (0.5 + 0.5*sqrt(5))*e_1^e_2 + (-0.5*sqrt(5) + 0.5)*e_1^e_3 - 1.0*e_2^e_3 123121\n",
      "4 89 (-0.5*sqrt(5) - 0.5)*e_1^e_2 + (-0.5*sqrt(5) + 0.5)*e_1^e_3 - 1.0*e_2^e_3 321323\n",
      "4 91 (0.5 + 0.5*sqrt(5))*e_1^e_2 + (-0.5 + 0.5*sqrt(5))*e_1^e_3 + 1.0*e_2^e_3 323123\n",
      "4 129 (-0.5*sqrt(5) - 0.5)*e_1^e_2 + (-0.5 + 0.5*sqrt(5))*e_1^e_3 - 1.0*e_2^e_3 13213213\n"
     ]
    },
    {
     "name": "stdout",
     "output_type": "stream",
     "text": [
      "4 130 (0.5 + 0.5*sqrt(5))*e_1^e_2 + (-0.5*sqrt(5) + 0.5)*e_1^e_3 + 1.0*e_2^e_3 13213231\n",
      "4 139 1.0*e_1^e_2 + (0.5 + 0.5*sqrt(5))*e_1^e_3 + (-0.5*sqrt(5) + 0.5)*e_2^e_3 23213232\n",
      "4 140 -1.0*e_1^e_2 + (-0.5*sqrt(5) - 0.5)*e_1^e_3 + (-0.5 + 0.5*sqrt(5))*e_2^e_3 23231232\n",
      "4 175 -1.0*e_1^e_2 + (0.5 + 0.5*sqrt(5))*e_1^e_3 + (-0.5 + 0.5*sqrt(5))*e_2^e_3 1232132321\n",
      "4 176 1.0*e_1^e_2 + (-0.5*sqrt(5) - 0.5)*e_1^e_3 + (-0.5*sqrt(5) + 0.5)*e_2^e_3 1232312321\n",
      "4 181 (-0.5 + 0.5*sqrt(5))*e_1^e_2 + 1.0*e_1^e_3 + (-0.5*sqrt(5) - 0.5)*e_2^e_3 2132132132\n",
      "4 182 (-0.5*sqrt(5) + 0.5)*e_1^e_2 - 1.0*e_1^e_3 + (0.5 + 0.5*sqrt(5))*e_2^e_3 2132132312\n",
      "4 186 -1.0*e_1^e_2 + (-0.5*sqrt(5) - 0.5)*e_1^e_3 + (-0.5*sqrt(5) + 0.5)*e_2^e_3 2321321323\n",
      "4 188 1.0*e_1^e_2 + (0.5 + 0.5*sqrt(5))*e_1^e_3 + (-0.5 + 0.5*sqrt(5))*e_2^e_3 2321323123\n",
      "4 209 (-0.5*sqrt(5) + 0.5)*e_1^e_2 + 1.0*e_1^e_3 + (0.5 + 0.5*sqrt(5))*e_2^e_3 121321321321\n",
      "4 211 (-0.5 + 0.5*sqrt(5))*e_1^e_2 - 1.0*e_1^e_3 + (-0.5*sqrt(5) - 0.5)*e_2^e_3 121321323121\n",
      "4 213 -1.0*e_1^e_2 + (0.5 + 0.5*sqrt(5))*e_1^e_3 + (-0.5*sqrt(5) + 0.5)*e_2^e_3 123213213213\n",
      "4 214 1.0*e_1^e_2 + (-0.5*sqrt(5) - 0.5)*e_1^e_3 + (-0.5 + 0.5*sqrt(5))*e_2^e_3 123213213231\n",
      "4 221 (-0.5*sqrt(5) + 0.5)*e_1^e_2 - 1.0*e_1^e_3 + (-0.5*sqrt(5) - 0.5)*e_2^e_3 321321321323\n",
      "4 222 (-0.5 + 0.5*sqrt(5))*e_1^e_2 + 1.0*e_1^e_3 + (0.5 + 0.5*sqrt(5))*e_2^e_3 321321323123\n",
      "4 233 -2.0*e_2^e_3 12132132132132\n",
      "4 234 2.0*e_2^e_3 12132132132312\n",
      "4 235 (-0.5 + 0.5*sqrt(5))*e_1^e_2 - 1.0*e_1^e_3 + (0.5 + 0.5*sqrt(5))*e_2^e_3 12321321321323\n",
      "4 236 (-0.5*sqrt(5) + 0.5)*e_1^e_2 + 1.0*e_1^e_3 + (-0.5*sqrt(5) - 0.5)*e_2^e_3 12321321323123\n",
      "4 237 2.0*e_1^e_3 21321321321323\n",
      "4 238 -2.0*e_1^e_3 21321321323123\n",
      "\n",
      "  \\hline \n",
      "\n",
      "20 148 (-0.5 + 0.5*sqrt(5))*e_1 + 1.0*e_2 + (0.5 + 0.5*sqrt(5))*e_1^e_2^e_3 121323123\n",
      "20 152 1.0*e_1 + (-0.5 + 0.5*sqrt(5))*e_3 + (0.5 + 0.5*sqrt(5))*e_1^e_2^e_3 123231232\n",
      "20 153 (-0.5 + 0.5*sqrt(5))*e_1 - 1.0*e_2 + (0.5 + 0.5*sqrt(5))*e_1^e_2^e_3 132132132\n",
      "20 157 (-0.5*sqrt(5) + 0.5)*e_1 + 1.0*e_2 + (0.5 + 0.5*sqrt(5))*e_1^e_2^e_3 213213213\n",
      "20 164 -1.0*e_1 + (-0.5*sqrt(5) + 0.5)*e_3 + (0.5 + 0.5*sqrt(5))*e_1^e_2^e_3 232312321\n",
      "20 165 (-0.5*sqrt(5) + 0.5)*e_1 - 1.0*e_2 + (0.5 + 0.5*sqrt(5))*e_1^e_2^e_3 321321321\n",
      "20 196 1.0*e_1 + (-0.5*sqrt(5) + 0.5)*e_3 + (0.5 + 0.5*sqrt(5))*e_1^e_2^e_3 12321321323\n",
      "20 204 (-0.5 + 0.5*sqrt(5))*e_2 + 1.0*e_3 + (0.5 + 0.5*sqrt(5))*e_1^e_2^e_3 21321323123\n",
      "20 206 -1.0*e_1 + (-0.5 + 0.5*sqrt(5))*e_3 + (0.5 + 0.5*sqrt(5))*e_1^e_2^e_3 23213213231\n",
      "20 208 (-0.5*sqrt(5) + 0.5)*e_2 - 1.0*e_3 + (0.5 + 0.5*sqrt(5))*e_1^e_2^e_3 32132132312\n",
      "20 223 (-0.5 + 0.5*sqrt(5))*e_2 - 1.0*e_3 + (0.5 + 0.5*sqrt(5))*e_1^e_2^e_3 1213213213213\n",
      "20 225 (-0.5*sqrt(5) + 0.5)*e_2 + 1.0*e_3 + (0.5 + 0.5*sqrt(5))*e_1^e_2^e_3 1232132132132\n",
      "\n",
      "  \\hline \n",
      "\n",
      "20 12 -1.0*e_1 + (-0.5*sqrt(5) - 0.5)*e_2 + (-0.5*sqrt(5) + 0.5)*e_1^e_2^e_3 123\n",
      "20 16 1.0*e_1 + (-0.5*sqrt(5) - 0.5)*e_2 + (-0.5*sqrt(5) + 0.5)*e_1^e_2^e_3 231\n",
      "20 18 -1.0*e_1 + (0.5 + 0.5*sqrt(5))*e_2 + (-0.5*sqrt(5) + 0.5)*e_1^e_2^e_3 312\n",
      "20 42 (-0.5*sqrt(5) - 0.5)*e_1 - 1.0*e_3 + (-0.5*sqrt(5) + 0.5)*e_1^e_2^e_3 12132\n",
      "20 47 1.0*e_1 + (0.5 + 0.5*sqrt(5))*e_2 + (-0.5*sqrt(5) + 0.5)*e_1^e_2^e_3 13121\n",
      "20 54 (0.5 + 0.5*sqrt(5))*e_1 + 1.0*e_3 + (-0.5*sqrt(5) + 0.5)*e_1^e_2^e_3 21321\n",
      "20 107 (-0.5*sqrt(5) - 0.5)*e_1 + 1.0*e_3 + (-0.5*sqrt(5) + 0.5)*e_1^e_2^e_3 1323123\n",
      "20 117 (0.5 + 0.5*sqrt(5))*e_1 - 1.0*e_3 + (-0.5*sqrt(5) + 0.5)*e_1^e_2^e_3 3213213\n",
      "20 160 -1.0*e_2 + (-0.5*sqrt(5) - 0.5)*e_3 + (-0.5*sqrt(5) + 0.5)*e_1^e_2^e_3 213231232\n",
      "20 161 1.0*e_2 + (0.5 + 0.5*sqrt(5))*e_3 + (-0.5*sqrt(5) + 0.5)*e_1^e_2^e_3 232132132\n",
      "20 194 -1.0*e_2 + (0.5 + 0.5*sqrt(5))*e_3 + (-0.5*sqrt(5) + 0.5)*e_1^e_2^e_3 12132312321\n",
      "20 195 1.0*e_2 + (-0.5*sqrt(5) - 0.5)*e_3 + (-0.5*sqrt(5) + 0.5)*e_1^e_2^e_3 12321321321\n",
      "\n",
      "  \\hline \n",
      "\n",
      "12 46 (0.5 + 0.5*sqrt(5))*e_1 + (-0.5 + 0.5*sqrt(5))*e_2 + 1.0*e_1^e_2^e_3 12323\n",
      "12 57 (0.5 + 0.5*sqrt(5))*e_2 + (-0.5 + 0.5*sqrt(5))*e_3 + 1.0*e_1^e_2^e_3 23123\n",
      "12 59 (-0.5*sqrt(5) - 0.5)*e_1 + (-0.5 + 0.5*sqrt(5))*e_2 + 1.0*e_1^e_2^e_3 23231\n",
      "12 61 (0.5 + 0.5*sqrt(5))*e_1 + (-0.5*sqrt(5) + 0.5)*e_2 + 1.0*e_1^e_2^e_3 31232\n",
      "12 63 (-0.5*sqrt(5) - 0.5)*e_2 + (-0.5*sqrt(5) + 0.5)*e_3 + 1.0*e_1^e_2^e_3 32312\n",
      "12 95 (0.5 + 0.5*sqrt(5))*e_2 + (-0.5*sqrt(5) + 0.5)*e_3 + 1.0*e_1^e_2^e_3 1213213\n",
      "12 97 1.0*e_1 + 1.0*e_2 + 1.0*e_3 + 1.0*e_1^e_2^e_3 1213232\n",
      "12 99 1.0*e_1 - 1.0*e_2 + 1.0*e_3 + 1.0*e_1^e_2^e_3 1232132\n",
      "12 102 (-0.5*sqrt(5) - 0.5)*e_1 + (-0.5*sqrt(5) + 0.5)*e_2 + 1.0*e_1^e_2^e_3 1312321\n",
      "12 106 (-0.5*sqrt(5) - 0.5)*e_2 + (-0.5 + 0.5*sqrt(5))*e_3 + 1.0*e_1^e_2^e_3 1323121\n",
      "12 111 -1.0*e_1 + 1.0*e_2 - 1.0*e_3 + 1.0*e_1^e_2^e_3 2132321\n",
      "12 113 -1.0*e_1 - 1.0*e_2 - 1.0*e_3 + 1.0*e_1^e_2^e_3 2321321\n",
      "12 114 -1.0*e_1 + 1.0*e_2 + 1.0*e_3 + 1.0*e_1^e_2^e_3 2321323\n",
      "12 119 1.0*e_1 - 1.0*e_2 - 1.0*e_3 + 1.0*e_1^e_2^e_3 3213232\n",
      "12 150 1.0*e_1 + 1.0*e_2 - 1.0*e_3 + 1.0*e_1^e_2^e_3 123213231\n",
      "12 155 -1.0*e_1 - 1.0*e_2 + 1.0*e_3 + 1.0*e_1^e_2^e_3 132132321\n",
      "12 192 (-0.5 + 0.5*sqrt(5))*e_1 + (0.5 + 0.5*sqrt(5))*e_3 + 1.0*e_1^e_2^e_3 12132132312\n",
      "12 203 (-0.5*sqrt(5) + 0.5)*e_1 + (-0.5*sqrt(5) - 0.5)*e_3 + 1.0*e_1^e_2^e_3 21321323121\n",
      "12 227 (-0.5 + 0.5*sqrt(5))*e_1 + (-0.5*sqrt(5) - 0.5)*e_3 + 1.0*e_1^e_2^e_3 1321321321323\n",
      "12 231 (-0.5*sqrt(5) + 0.5)*e_1 + (0.5 + 0.5*sqrt(5))*e_3 + 1.0*e_1^e_2^e_3 2321321321323\n",
      "\n",
      "  \\hline \n",
      "\n",
      "20 14 1.0*e_1 + (-0.5*sqrt(5) - 0.5)*e_2 + (-0.5 + 0.5*sqrt(5))*e_1^e_2^e_3 132\n",
      "20 15 -1.0*e_1 + (0.5 + 0.5*sqrt(5))*e_2 + (-0.5 + 0.5*sqrt(5))*e_1^e_2^e_3 213\n",
      "20 20 -1.0*e_1 + (-0.5*sqrt(5) - 0.5)*e_2 + (-0.5 + 0.5*sqrt(5))*e_1^e_2^e_3 321\n",
      "20 41 1.0*e_1 + (0.5 + 0.5*sqrt(5))*e_2 + (-0.5 + 0.5*sqrt(5))*e_1^e_2^e_3 12131\n",
      "20 43 (0.5 + 0.5*sqrt(5))*e_1 + 1.0*e_3 + (-0.5 + 0.5*sqrt(5))*e_1^e_2^e_3 12312\n",
      "20 56 (-0.5*sqrt(5) - 0.5)*e_1 - 1.0*e_3 + (-0.5 + 0.5*sqrt(5))*e_1^e_2^e_3 23121\n",
      "20 105 (0.5 + 0.5*sqrt(5))*e_1 - 1.0*e_3 + (-0.5 + 0.5*sqrt(5))*e_1^e_2^e_3 1321323\n",
      "20 118 (-0.5*sqrt(5) - 0.5)*e_1 + 1.0*e_3 + (-0.5 + 0.5*sqrt(5))*e_1^e_2^e_3 3213231\n",
      "20 159 1.0*e_2 + (0.5 + 0.5*sqrt(5))*e_3 + (-0.5 + 0.5*sqrt(5))*e_1^e_2^e_3 213213232\n",
      "20 162 -1.0*e_2 + (-0.5*sqrt(5) - 0.5)*e_3 + (-0.5 + 0.5*sqrt(5))*e_1^e_2^e_3 232132312\n",
      "20 193 1.0*e_2 + (-0.5*sqrt(5) - 0.5)*e_3 + (-0.5 + 0.5*sqrt(5))*e_1^e_2^e_3 12132132321\n",
      "20 197 -1.0*e_2 + (0.5 + 0.5*sqrt(5))*e_3 + (-0.5 + 0.5*sqrt(5))*e_1^e_2^e_3 12321323121\n",
      "\n",
      "  \\hline \n",
      "\n",
      "20 146 (-0.5*sqrt(5) + 0.5)*e_1 - 1.0*e_2 + (-0.5*sqrt(5) - 0.5)*e_1^e_2^e_3 121321323\n",
      "20 151 -1.0*e_1 + (-0.5*sqrt(5) + 0.5)*e_3 + (-0.5*sqrt(5) - 0.5)*e_1^e_2^e_3 123213232\n",
      "20 154 (-0.5*sqrt(5) + 0.5)*e_1 + 1.0*e_2 + (-0.5*sqrt(5) - 0.5)*e_1^e_2^e_3 132132312\n",
      "20 158 (-0.5 + 0.5*sqrt(5))*e_1 - 1.0*e_2 + (-0.5*sqrt(5) - 0.5)*e_1^e_2^e_3 213213231\n",
      "20 163 1.0*e_1 + (-0.5 + 0.5*sqrt(5))*e_3 + (-0.5*sqrt(5) - 0.5)*e_1^e_2^e_3 232132321\n",
      "20 167 (-0.5 + 0.5*sqrt(5))*e_1 + 1.0*e_2 + (-0.5*sqrt(5) - 0.5)*e_1^e_2^e_3 321323121\n",
      "20 198 -1.0*e_1 + (-0.5 + 0.5*sqrt(5))*e_3 + (-0.5*sqrt(5) - 0.5)*e_1^e_2^e_3 12321323123\n",
      "20 202 (-0.5*sqrt(5) + 0.5)*e_2 - 1.0*e_3 + (-0.5*sqrt(5) - 0.5)*e_1^e_2^e_3 21321321323\n",
      "20 205 1.0*e_1 + (-0.5*sqrt(5) + 0.5)*e_3 + (-0.5*sqrt(5) - 0.5)*e_1^e_2^e_3 23213213213\n",
      "20 207 (-0.5 + 0.5*sqrt(5))*e_2 + 1.0*e_3 + (-0.5*sqrt(5) - 0.5)*e_1^e_2^e_3 32132132132\n",
      "20 224 (-0.5*sqrt(5) + 0.5)*e_2 + 1.0*e_3 + (-0.5*sqrt(5) - 0.5)*e_1^e_2^e_3 1213213213231\n",
      "20 226 (-0.5 + 0.5*sqrt(5))*e_2 - 1.0*e_3 + (-0.5*sqrt(5) - 0.5)*e_1^e_2^e_3 1232132132312\n",
      "\n",
      "  \\hline \n",
      "\n",
      "10 70 -0.5*sqrt(5) + 0.5 + (-0.5*sqrt(5) - 0.5)*e_1^e_2 + 1.0*e_1^e_3 123213\n",
      "10 73 -0.5*sqrt(5) + 0.5 + (-0.5*sqrt(5) - 0.5)*e_1^e_2 - 1.0*e_1^e_3 131232\n",
      "10 78 -0.5*sqrt(5) + 0.5 + (0.5 + 0.5*sqrt(5))*e_1^e_2 + 1.0*e_1^e_3 213123\n",
      "10 86 -0.5*sqrt(5) + 0.5 + (0.5 + 0.5*sqrt(5))*e_1^e_2 - 1.0*e_1^e_3 312321\n",
      "10 121 -0.5*sqrt(5) + 0.5 + 1.0*e_1^e_2 + (-0.5*sqrt(5) - 0.5)*e_2^e_3 12132132\n",
      "10 133 -0.5*sqrt(5) + 0.5 - 1.0*e_1^e_2 + (0.5 + 0.5*sqrt(5))*e_2^e_3 21321321\n",
      "10 180 -0.5*sqrt(5) + 0.5 - 1.0*e_1^e_2 + (-0.5*sqrt(5) - 0.5)*e_2^e_3 1321323123\n",
      "10 189 -0.5*sqrt(5) + 0.5 + 1.0*e_1^e_2 + (0.5 + 0.5*sqrt(5))*e_2^e_3 3213213213\n",
      "10 210 -0.5*sqrt(5) + 0.5 + (0.5 + 0.5*sqrt(5))*e_1^e_3 - 1.0*e_2^e_3 121321321323\n",
      "10 216 -0.5*sqrt(5) + 0.5 + (-0.5*sqrt(5) - 0.5)*e_1^e_3 - 1.0*e_2^e_3 132132132312\n"
     ]
    },
    {
     "name": "stdout",
     "output_type": "stream",
     "text": [
      "10 218 -0.5*sqrt(5) + 0.5 + (0.5 + 0.5*sqrt(5))*e_1^e_3 + 1.0*e_2^e_3 213213213231\n",
      "10 219 -0.5*sqrt(5) + 0.5 + (-0.5*sqrt(5) - 0.5)*e_1^e_3 + 1.0*e_2^e_3 232132132132\n",
      "\n",
      "  \\hline \n",
      "\n",
      "4 240 2.0*e_1^e_2^e_3 121321321323123\n",
      "\n",
      "  \\hline \n",
      "\n",
      "1 4 2 11\n",
      "\n",
      "  \\hline \n",
      "\n",
      "6 28 1.0 + (0.5 + 0.5*sqrt(5))*e_1^e_2 + (-0.5 + 0.5*sqrt(5))*e_2^e_3 1323\n",
      "6 32 1.0 + (0.5 + 0.5*sqrt(5))*e_1^e_2 + (-0.5*sqrt(5) + 0.5)*e_2^e_3 2313\n",
      "6 37 1.0 + (-0.5*sqrt(5) - 0.5)*e_1^e_2 + (-0.5 + 0.5*sqrt(5))*e_2^e_3 3132\n",
      "6 39 1.0 + (-0.5*sqrt(5) - 0.5)*e_1^e_2 + (-0.5*sqrt(5) + 0.5)*e_2^e_3 3231\n",
      "6 81 1.0 - 1.0*e_1^e_2 - 1.0*e_1^e_3 + 1.0*e_2^e_3 213232\n",
      "6 84 1.0 + 1.0*e_1^e_2 + 1.0*e_1^e_3 - 1.0*e_2^e_3 232312\n",
      "6 123 1.0 + 1.0*e_1^e_2 - 1.0*e_1^e_3 - 1.0*e_2^e_3 12132321\n",
      "6 126 1.0 + 1.0*e_1^e_2 - 1.0*e_1^e_3 + 1.0*e_2^e_3 12321323\n",
      "6 127 1.0 - 1.0*e_1^e_2 + 1.0*e_1^e_3 + 1.0*e_2^e_3 12323121\n",
      "6 132 1.0 + 1.0*e_1^e_2 + 1.0*e_1^e_3 + 1.0*e_2^e_3 13231232\n",
      "6 136 1.0 + (-0.5*sqrt(5) + 0.5)*e_1^e_2 + (-0.5*sqrt(5) - 0.5)*e_1^e_3 21323123\n",
      "6 138 1.0 - 1.0*e_1^e_2 - 1.0*e_1^e_3 - 1.0*e_2^e_3 23213231\n",
      "6 142 1.0 + (-0.5 + 0.5*sqrt(5))*e_1^e_2 + (0.5 + 0.5*sqrt(5))*e_1^e_3 32132312\n",
      "6 144 1.0 - 1.0*e_1^e_2 + 1.0*e_1^e_3 - 1.0*e_2^e_3 32312321\n",
      "6 169 1.0 + (-0.5 + 0.5*sqrt(5))*e_1^e_2 + (-0.5*sqrt(5) - 0.5)*e_1^e_3 1213213213\n",
      "6 171 1.0 + (-0.5*sqrt(5) + 0.5)*e_1^e_3 + (0.5 + 0.5*sqrt(5))*e_2^e_3 1213213232\n",
      "6 173 1.0 + (-0.5 + 0.5*sqrt(5))*e_1^e_3 + (0.5 + 0.5*sqrt(5))*e_2^e_3 1232132132\n",
      "6 179 1.0 + (-0.5*sqrt(5) + 0.5)*e_1^e_2 + (0.5 + 0.5*sqrt(5))*e_1^e_3 1321323121\n",
      "6 183 1.0 + (-0.5*sqrt(5) + 0.5)*e_1^e_3 + (-0.5*sqrt(5) - 0.5)*e_2^e_3 2132132321\n",
      "6 185 1.0 + (-0.5 + 0.5*sqrt(5))*e_1^e_3 + (-0.5*sqrt(5) - 0.5)*e_2^e_3 2321321321\n",
      "\n",
      "  \\hline \n",
      "\n",
      "2 26 -2 1313\n",
      "\n",
      "  \\hline \n",
      "\n",
      "4 239 -2.0*e_1^e_2^e_3 121321321321323\n"
     ]
    }
   ],
   "source": [
    "for cclass in pin_CC_H3:\n",
    "    print(  '\\n  \\hline \\n')\n",
    "    for element in sorted(list(cclass)):\n",
    "        #print('$', order_of_element(Pin_H3_elts[element]),'$', '& ', '$',element+1,'$', '& $',  latex(2*Pin_H3_elts[element]), ' $ &', Pin_H3_paths[element], '\\\\\\\\')\n",
    "        print(order_of_element(Pin_H3_elts[element]),element+1,(2*Pin_H3_elts[element]),  Pin_H3_paths[element])\n"
   ]
  },
  {
   "cell_type": "markdown",
   "metadata": {},
   "source": [
    "# Grand antiprism and snub 24-cell"
   ]
  },
  {
   "cell_type": "markdown",
   "metadata": {},
   "source": [
    "Use subrootsystems to split the 600-cell into two separately invariant polytopes. Explicitly verify they are stabilised. "
   ]
  },
  {
   "cell_type": "code",
   "execution_count": 8,
   "metadata": {},
   "outputs": [
    {
     "name": "stdout",
     "output_type": "stream",
     "text": [
      "2 4\n",
      "----------------\n",
      "6 8\n",
      "----------------\n",
      "14 12\n",
      "----------------\n",
      "26 15\n",
      "----------------\n",
      "41 18\n",
      "----------------\n",
      "59 19\n",
      "----------------\n",
      "78 19\n",
      "----------------\n",
      "97 15\n",
      "----------------\n",
      "112 8\n",
      "----------------\n",
      "There are  120  elements in total.\n"
     ]
    }
   ],
   "source": [
    "spin_group_H3 = closure_of_generators([a1*a2, a2*a3])"
   ]
  },
  {
   "cell_type": "code",
   "execution_count": 9,
   "metadata": {},
   "outputs": [],
   "source": [
    "def closed_under_spin_reflections(points, group):\n",
    "    for u in points:\n",
    "        for n in group:\n",
    "            tmp = reflect_spinor(n, u) \n",
    "            if not tmp in points:\n",
    "                print('issue')\n",
    "                return False\n",
    "                break\n",
    "    return True"
   ]
  },
  {
   "cell_type": "markdown",
   "metadata": {},
   "source": [
    "$A_2\\oplus A_2$ example "
   ]
  },
  {
   "cell_type": "code",
   "execution_count": 10,
   "metadata": {},
   "outputs": [
    {
     "name": "stdout",
     "output_type": "stream",
     "text": [
      "4 6\n",
      "----------------\n",
      "10 2\n",
      "----------------\n",
      "This is a root system with  12  roots\n"
     ]
    }
   ],
   "source": [
    "A2A2 = closure_of_roots_in_spin([a1*a1, a1*a2, e1*e2*e3*a1, e1*e2*e3*a2])"
   ]
  },
  {
   "cell_type": "code",
   "execution_count": 11,
   "metadata": {},
   "outputs": [
    {
     "name": "stdout",
     "output_type": "stream",
     "text": [
      "True\n",
      "True\n",
      "True\n",
      "True\n",
      "True\n",
      "True\n",
      "True\n",
      "True\n",
      "True\n",
      "True\n",
      "True\n",
      "True\n"
     ]
    }
   ],
   "source": [
    "for dec in A2A2:\n",
    "    print(dec in spin_group_H3)"
   ]
  },
  {
   "cell_type": "code",
   "execution_count": 12,
   "metadata": {},
   "outputs": [
    {
     "data": {
      "text/latex": [
       "$$108$$"
      ],
      "text/plain": [
       "108"
      ]
     },
     "execution_count": 12,
     "metadata": {},
     "output_type": "execute_result"
    }
   ],
   "source": [
    "compA2A2 = []\n",
    "\n",
    "for elmt in spin_group_H3:\n",
    "    if not elmt  in A2A2:\n",
    "        compA2A2.append(elmt)\n",
    "len(compA2A2)"
   ]
  },
  {
   "cell_type": "code",
   "execution_count": 203,
   "metadata": {},
   "outputs": [
    {
     "data": {
      "text/plain": [
       "True"
      ]
     },
     "execution_count": 203,
     "metadata": {},
     "output_type": "execute_result"
    }
   ],
   "source": [
    "A2A2stable = closed_under_spin_reflections(A2A2, A2A2)\n",
    "A2A2stable"
   ]
  },
  {
   "cell_type": "code",
   "execution_count": 204,
   "metadata": {},
   "outputs": [
    {
     "data": {
      "text/plain": [
       "True"
      ]
     },
     "execution_count": 204,
     "metadata": {},
     "output_type": "execute_result"
    }
   ],
   "source": [
    "compA2A2stable = closed_under_spin_reflections(compA2A2, A2A2)\n",
    "compA2A2stable"
   ]
  },
  {
   "cell_type": "code",
   "execution_count": null,
   "metadata": {},
   "outputs": [],
   "source": []
  },
  {
   "cell_type": "markdown",
   "metadata": {},
   "source": [
    "$H_2\\oplus H_2$ example (Grand Antiprism)"
   ]
  },
  {
   "cell_type": "code",
   "execution_count": 13,
   "metadata": {},
   "outputs": [
    {
     "name": "stdout",
     "output_type": "stream",
     "text": [
      "4 8\n",
      "----------------\n",
      "12 6\n",
      "----------------\n",
      "18 2\n",
      "----------------\n",
      "This is a root system with  20  roots\n"
     ]
    }
   ],
   "source": [
    "H2H2 = closure_of_roots_in_spin([a1*a1, a3*a2, e1*e2*e3*a3, e1*e2*e3*a2])"
   ]
  },
  {
   "cell_type": "code",
   "execution_count": 14,
   "metadata": {},
   "outputs": [
    {
     "name": "stdout",
     "output_type": "stream",
     "text": [
      "True\n",
      "True\n",
      "True\n",
      "True\n",
      "True\n",
      "True\n",
      "True\n",
      "True\n",
      "True\n",
      "True\n",
      "True\n",
      "True\n",
      "True\n",
      "True\n",
      "True\n",
      "True\n",
      "True\n",
      "True\n",
      "True\n",
      "True\n"
     ]
    }
   ],
   "source": [
    "for dec in H2H2:\n",
    "    print(dec in spin_group_H3)"
   ]
  },
  {
   "cell_type": "code",
   "execution_count": 207,
   "metadata": {},
   "outputs": [
    {
     "data": {
      "text/latex": [
       "$$100$$"
      ],
      "text/plain": [
       "100"
      ]
     },
     "execution_count": 207,
     "metadata": {},
     "output_type": "execute_result"
    }
   ],
   "source": [
    "GA = []\n",
    "\n",
    "for elmt in spin_group_H3:\n",
    "    if not elmt  in H2H2:\n",
    "        GA.append(elmt)\n",
    "len(GA)"
   ]
  },
  {
   "cell_type": "code",
   "execution_count": null,
   "metadata": {},
   "outputs": [],
   "source": []
  },
  {
   "cell_type": "code",
   "execution_count": 208,
   "metadata": {},
   "outputs": [
    {
     "data": {
      "text/plain": [
       "True"
      ]
     },
     "execution_count": 208,
     "metadata": {},
     "output_type": "execute_result"
    }
   ],
   "source": [
    "closed_under_spin_reflections(GA, H2H2)"
   ]
  },
  {
   "cell_type": "code",
   "execution_count": 209,
   "metadata": {},
   "outputs": [
    {
     "data": {
      "text/plain": [
       "True"
      ]
     },
     "execution_count": 209,
     "metadata": {},
     "output_type": "execute_result"
    }
   ],
   "source": [
    "H2H2stable = closed_under_spin_reflections(H2H2, H2H2)\n",
    "H2H2stable"
   ]
  },
  {
   "cell_type": "markdown",
   "metadata": {},
   "source": [
    "Aside for different choices of simple roots for the subrootsystems we need:"
   ]
  },
  {
   "cell_type": "markdown",
   "metadata": {},
   "source": [
    "$H_2\\oplus H_2$ (see separate worksheet for doubling)"
   ]
  },
  {
   "cell_type": "code",
   "execution_count": 15,
   "metadata": {},
   "outputs": [
    {
     "data": {
      "text/latex": [
       "$$\\left[\\begin{array}{cccc}2.0 & - 0.5 \\sqrt{5} - 0.5 & 0 & 0\\\\- 0.5 \\sqrt{5} - 0.5 & 2.0 & 0 & 0\\\\0 & 0 & 2.0 & - 0.5 \\sqrt{5} - 0.5\\\\0 & 0 & - 0.5 \\sqrt{5} - 0.5 & 2.0\\end{array}\\right]$$"
      ],
      "text/plain": [
       "Matrix([\n",
       "[               2.0, -0.5*sqrt(5) - 0.5,                  0,                  0],\n",
       "[-0.5*sqrt(5) - 0.5,                2.0,                  0,                  0],\n",
       "[                 0,                  0,                2.0, -0.5*sqrt(5) - 0.5],\n",
       "[                 0,                  0, -0.5*sqrt(5) - 0.5,                2.0]])"
      ]
     },
     "execution_count": 15,
     "metadata": {},
     "output_type": "execute_result"
    }
   ],
   "source": [
    "from sympy.matrices import Matrix, eye, zeros, ones, diag, GramSchmidt\n",
    "\n",
    "simple_roots_4D = [a1*a1, a2*a3, a3*e1*e2*e3,  a2*e1*e2*e3]\n",
    "\n",
    "A = zeros(4, 4)\n",
    "for i in range(len(simple_roots_4D)):\n",
    "    for j in range(len(simple_roots_4D)):\n",
    "        tmp = spIP(simple_roots_4D[i], simple_roots_4D[j])\n",
    "        A[i,j]=2*tmp.blade_coefs()[0] \n",
    "A"
   ]
  },
  {
   "cell_type": "markdown",
   "metadata": {},
   "source": [
    "$A_2\\oplus A_2$"
   ]
  },
  {
   "cell_type": "code",
   "execution_count": 16,
   "metadata": {},
   "outputs": [
    {
     "data": {
      "text/latex": [
       "$$\\left[\\begin{array}{cccc}2.0 & -1.0 & 0 & 0\\\\-1.0 & 2.0 & 0 & 0\\\\0 & 0 & 2.0 & -1.0\\\\0 & 0 & -1.0 & 2.0\\end{array}\\right]$$"
      ],
      "text/plain": [
       "Matrix([\n",
       "[ 2.0, -1.0,    0,    0],\n",
       "[-1.0,  2.0,    0,    0],\n",
       "[   0,    0,  2.0, -1.0],\n",
       "[   0,    0, -1.0,  2.0]])"
      ]
     },
     "execution_count": 16,
     "metadata": {},
     "output_type": "execute_result"
    }
   ],
   "source": [
    "simple_roots_4D = [a1*a1, a1*a2, a2*e1*e2*e3,  a1*e1*e2*e3]\n",
    "\n",
    "A = zeros(4, 4)\n",
    "for i in range(len(simple_roots_4D)):\n",
    "    for j in range(len(simple_roots_4D)):\n",
    "        #print(simple_roots_4D[i],simple_roots_4D[j])\n",
    "        tmp = spIP(simple_roots_4D[i], simple_roots_4D[j])\n",
    "        #print(tmp.blade_coefs()[0])\n",
    "        A[i,j]=2*tmp.blade_coefs()[0] #spIP(simple_roots_4D[i], simple_roots_4D[j])\n",
    "A"
   ]
  },
  {
   "cell_type": "code",
   "execution_count": null,
   "metadata": {},
   "outputs": [],
   "source": []
  },
  {
   "cell_type": "code",
   "execution_count": null,
   "metadata": {},
   "outputs": [],
   "source": []
  },
  {
   "cell_type": "markdown",
   "metadata": {},
   "source": [
    "$H_4$"
   ]
  },
  {
   "cell_type": "code",
   "execution_count": 17,
   "metadata": {},
   "outputs": [
    {
     "data": {
      "text/latex": [
       "$$\\left[\\begin{array}{cccc}2.0 & -1.0 & 0 & 0\\\\-1.0 & 2.0 & -1.0 & 0\\\\0 & -1.0 & 2.0 & - 0.5 \\sqrt{5} - 0.5\\\\0 & 0 & - 0.5 \\sqrt{5} - 0.5 & 2.0\\end{array}\\right]$$"
      ],
      "text/plain": [
       "Matrix([\n",
       "[ 2.0, -1.0,                  0,                  0],\n",
       "[-1.0,  2.0,               -1.0,                  0],\n",
       "[   0, -1.0,                2.0, -0.5*sqrt(5) - 0.5],\n",
       "[   0,    0, -0.5*sqrt(5) - 0.5,                2.0]])"
      ]
     },
     "execution_count": 17,
     "metadata": {},
     "output_type": "execute_result"
    }
   ],
   "source": [
    "simple_roots_4D = [a1*a1, a1*a2,  e1*e2*a2*e3, a2*e1*e2*e3]\n",
    "\n",
    "A = CM(simple_roots_4D)\n",
    "A\n"
   ]
  },
  {
   "cell_type": "code",
   "execution_count": 37,
   "metadata": {},
   "outputs": [
    {
     "name": "stdout",
     "output_type": "stream",
     "text": [
      "4 8\n",
      "----------------\n",
      "12 8\n",
      "----------------\n",
      "20 8\n",
      "----------------\n",
      "28 8\n",
      "----------------\n",
      "36 8\n",
      "----------------\n",
      "44 8\n",
      "----------------\n",
      "52 7\n",
      "----------------\n",
      "59 6\n",
      "----------------\n",
      "65 6\n",
      "----------------\n",
      "71 6\n",
      "----------------\n",
      "77 6\n",
      "----------------\n",
      "83 6\n",
      "----------------\n",
      "89 5\n",
      "----------------\n",
      "94 4\n",
      "----------------\n",
      "98 4\n",
      "----------------\n",
      "102 4\n",
      "----------------\n",
      "106 3\n",
      "----------------\n",
      "109 2\n",
      "----------------\n",
      "111 2\n",
      "----------------\n",
      "113 2\n",
      "----------------\n",
      "115 2\n",
      "----------------\n",
      "117 2\n",
      "----------------\n",
      "119 1\n",
      "----------------\n",
      "This is a root system with  120  roots\n"
     ]
    }
   ],
   "source": [
    "H4_RS=closure_of_roots_in_spin(simple_roots_4D)"
   ]
  },
  {
   "cell_type": "markdown",
   "metadata": {},
   "source": [
    "$A_4$"
   ]
  },
  {
   "cell_type": "code",
   "execution_count": 214,
   "metadata": {},
   "outputs": [
    {
     "data": {
      "text/latex": [
       "$$\\left[\\begin{array}{cccc}2.0 & -1.0 & 0 & 0\\\\-1.0 & 2.0 & -1.0 & 0\\\\0 & -1.0 & 2.0 & -1.0\\\\0 & 0 & -1.0 & 2.0\\end{array}\\right]$$"
      ],
      "text/plain": [
       "Matrix([\n",
       "[ 2.0, -1.0,    0,    0],\n",
       "[-1.0,  2.0, -1.0,    0],\n",
       "[   0, -1.0,  2.0, -1.0],\n",
       "[   0,    0, -1.0,  2.0]])"
      ]
     },
     "execution_count": 214,
     "metadata": {},
     "output_type": "execute_result"
    }
   ],
   "source": [
    "CM([a1*a1, a1*a2, a1*a3*a2*a1*a3*a2*a1*a3, a3*a2*a1*a3*a2*a1*a3*a2*a3*a1*a2*a3])"
   ]
  },
  {
   "cell_type": "code",
   "execution_count": 132,
   "metadata": {},
   "outputs": [
    {
     "name": "stdout",
     "output_type": "stream",
     "text": [
      "4 7\n",
      "----------------\n",
      "11 5\n",
      "----------------\n",
      "16 3\n",
      "----------------\n",
      "19 1\n",
      "----------------\n",
      "This is a root system with  20  roots\n"
     ]
    }
   ],
   "source": [
    "A4 = closure_of_roots_in_spin([a1*a1, a1*a2, a1*a3*a2*a1*a3*a2*a1*a3, a3*a2*a1*a3*a2*a1*a3*a2*a3*a1*a2*a3])"
   ]
  },
  {
   "cell_type": "markdown",
   "metadata": {},
   "source": [
    "Carry on with the stability of the complementary polytope pairs here for the other cases whose simple roots we now have. "
   ]
  },
  {
   "cell_type": "code",
   "execution_count": 135,
   "metadata": {},
   "outputs": [
    {
     "data": {
      "text/latex": [
       "$$100$$"
      ],
      "text/plain": [
       "100"
      ]
     },
     "execution_count": 135,
     "metadata": {},
     "output_type": "execute_result"
    }
   ],
   "source": [
    "A4snub = []\n",
    "\n",
    "for elmt in spin_group_H3:\n",
    "    if not elmt  in A4:\n",
    "        A4snub.append(elmt)\n",
    "len(A4snub)"
   ]
  },
  {
   "cell_type": "code",
   "execution_count": 144,
   "metadata": {},
   "outputs": [
    {
     "data": {
      "text/plain": [
       "True"
      ]
     },
     "execution_count": 144,
     "metadata": {},
     "output_type": "execute_result"
    }
   ],
   "source": [
    "A4snub_stable = closed_under_spin_reflections(A4snub, A4)\n",
    "A4snub_stable"
   ]
  },
  {
   "cell_type": "code",
   "execution_count": null,
   "metadata": {},
   "outputs": [],
   "source": []
  },
  {
   "cell_type": "markdown",
   "metadata": {},
   "source": [
    "$D_4$ and the snub 24-cell"
   ]
  },
  {
   "cell_type": "code",
   "execution_count": 216,
   "metadata": {},
   "outputs": [
    {
     "data": {
      "text/latex": [
       "$$\\left[\\begin{array}{cccc}2.0 & -1.0 & -1.0 & -1.0\\\\-1.0 & 2.0 & 0 & 0\\\\-1.0 & 0 & 2.0 & 0\\\\-1.0 & 0 & 0 & 2.0\\end{array}\\right]$$"
      ],
      "text/plain": [
       "Matrix([\n",
       "[ 2.0, -1.0, -1.0, -1.0],\n",
       "[-1.0,  2.0,    0,    0],\n",
       "[-1.0,    0,  2.0,    0],\n",
       "[-1.0,    0,    0,  2.0]])"
      ]
     },
     "execution_count": 216,
     "metadata": {},
     "output_type": "execute_result"
    }
   ],
   "source": [
    "CM([a1*a1, a1*a2, a1*a2*a3*a2*a3*a1*a2*a3, a3*a2*a1*a3*a2*a1*a3*a2])"
   ]
  },
  {
   "cell_type": "code",
   "execution_count": 95,
   "metadata": {},
   "outputs": [
    {
     "name": "stdout",
     "output_type": "stream",
     "text": [
      "4 7\n",
      "----------------\n",
      "11 6\n",
      "----------------\n",
      "17 4\n",
      "----------------\n",
      "21 2\n",
      "----------------\n",
      "23 1\n",
      "----------------\n",
      "This is a root system with  24  roots\n"
     ]
    }
   ],
   "source": [
    "D4 = closure_of_roots_in_spin([a1*a1, a1*a2, a1*a2*a3*a2*a3*a1*a2*a3, a3*a2*a1*a3*a2*a1*a3*a2])"
   ]
  },
  {
   "cell_type": "code",
   "execution_count": 96,
   "metadata": {},
   "outputs": [
    {
     "data": {
      "text/latex": [
       "$$96$$"
      ],
      "text/plain": [
       "96"
      ]
     },
     "execution_count": 96,
     "metadata": {},
     "output_type": "execute_result"
    }
   ],
   "source": [
    "snub = []\n",
    "\n",
    "for elmt in spin_group_H3:\n",
    "    if not elmt  in D4:\n",
    "        snub.append(elmt)\n",
    "len(snub)"
   ]
  },
  {
   "cell_type": "code",
   "execution_count": 97,
   "metadata": {},
   "outputs": [
    {
     "data": {
      "text/plain": [
       "True"
      ]
     },
     "execution_count": 97,
     "metadata": {},
     "output_type": "execute_result"
    }
   ],
   "source": [
    "D4stable = closed_under_spin_reflections(D4, D4)\n",
    "D4stable"
   ]
  },
  {
   "cell_type": "code",
   "execution_count": 98,
   "metadata": {},
   "outputs": [
    {
     "data": {
      "text/plain": [
       "True"
      ]
     },
     "execution_count": 98,
     "metadata": {},
     "output_type": "execute_result"
    }
   ],
   "source": [
    "snub_stable = closed_under_spin_reflections(snub, D4)\n",
    "snub_stable"
   ]
  },
  {
   "cell_type": "markdown",
   "metadata": {},
   "source": [
    "Just some routines to export the point lists"
   ]
  },
  {
   "cell_type": "code",
   "execution_count": 121,
   "metadata": {},
   "outputs": [],
   "source": [
    "def ThreeDspinortofourDvector(spinor):\n",
    "    b0 = (spinor.blade_coefs()[0])\n",
    "    b3 = (spinor.blade_coefs()[4])\n",
    "    b2 =-(spinor.blade_coefs()[5])\n",
    "    b1 = (spinor.blade_coefs()[6])\n",
    "    B =[b0, b3, -b2, b1]\n",
    "    return B\n",
    "\n",
    "def ThreeDspinortofourDvector_num(spinor):\n",
    "    b0 = (spinor.blade_coefs()[0])\n",
    "    b3 = (spinor.blade_coefs()[4])\n",
    "    b2 =-(spinor.blade_coefs()[5])\n",
    "    b1 = (spinor.blade_coefs()[6])\n",
    "    B =[round(float(b0), 3), round(float(b3), 3), round(float(-b2), 3), round(float(b1),3)]\n",
    "    return B\n",
    "\n",
    "def fourDvecto3Dspinor(vector):\n",
    "    a0 = vector[0]\n",
    "    a3 = vector[1]\n",
    "    a2 =-vector[2]\n",
    "    a1 = vector[3]\n",
    "    B =a0+a1*(e2^e3) - a2*(e1^e3) + a3*(e1^e2)\n",
    "    return B"
   ]
  },
  {
   "cell_type": "markdown",
   "metadata": {},
   "source": [
    "$A_1^4$"
   ]
  },
  {
   "cell_type": "code",
   "execution_count": 147,
   "metadata": {},
   "outputs": [
    {
     "name": "stdout",
     "output_type": "stream",
     "text": [
      "4 4\n",
      "----------------\n",
      "This is a root system with  8  roots\n"
     ]
    }
   ],
   "source": [
    "A14 = closure_of_roots_in_spin([e1*e1, e1*e2, e2*e3, e3*e1])"
   ]
  },
  {
   "cell_type": "code",
   "execution_count": 149,
   "metadata": {},
   "outputs": [
    {
     "data": {
      "text/latex": [
       "$$112$$"
      ],
      "text/plain": [
       "112"
      ]
     },
     "execution_count": 149,
     "metadata": {},
     "output_type": "execute_result"
    }
   ],
   "source": [
    "snubA14 = []\n",
    "\n",
    "for elmt in spin_group_H3:\n",
    "    if not elmt  in A14:\n",
    "        snubA14.append(elmt)\n",
    "len(snubA14)"
   ]
  },
  {
   "cell_type": "code",
   "execution_count": 150,
   "metadata": {},
   "outputs": [
    {
     "data": {
      "text/plain": [
       "True"
      ]
     },
     "execution_count": 150,
     "metadata": {},
     "output_type": "execute_result"
    }
   ],
   "source": [
    "A14stable = closed_under_spin_reflections(A14, A14)\n",
    "A14stable"
   ]
  },
  {
   "cell_type": "code",
   "execution_count": 151,
   "metadata": {},
   "outputs": [
    {
     "data": {
      "text/plain": [
       "True"
      ]
     },
     "execution_count": 151,
     "metadata": {},
     "output_type": "execute_result"
    }
   ],
   "source": [
    "A14stable = closed_under_spin_reflections(snubA14, A14)\n",
    "A14stable"
   ]
  },
  {
   "cell_type": "code",
   "execution_count": null,
   "metadata": {},
   "outputs": [],
   "source": []
  },
  {
   "cell_type": "markdown",
   "metadata": {},
   "source": [
    "# Coxeter plane"
   ]
  },
  {
   "cell_type": "markdown",
   "metadata": {},
   "source": [
    "Verify eigenvector and eigenvalue of the $H_4$ Cartan matrix"
   ]
  },
  {
   "cell_type": "code",
   "execution_count": 19,
   "metadata": {},
   "outputs": [
    {
     "name": "stdout",
     "output_type": "stream",
     "text": [
      "Matrix([\n",
      "[0],\n",
      "[0],\n",
      "[0],\n",
      "[0]])\n"
     ]
    }
   ],
   "source": [
    "C_H4 = CM(simple_roots_4D)\n",
    "M_evec = zeros(4,1)\n",
    "M_evec[0] = 4+4*sympy.sqrt(5)\n",
    "M_evec[1] = 2*sympy.sqrt(7+sympy.sqrt(30+6*sympy.sqrt(5))+sympy.sqrt(5))*(1+sympy.sqrt(5))\n",
    "M_evec[2] = sympy.sqrt(30+6*sympy.sqrt(5))*sympy.sqrt(5)+4*sympy.sqrt(5)+sympy.sqrt(30+6*sympy.sqrt(5))+8\n",
    "M_evec[3] = (sympy.sqrt(5)+sympy.sqrt(30+6*sympy.sqrt(5))-1)*sympy.sqrt(7+sympy.sqrt(30+6*sympy.sqrt(5))+sympy.sqrt(5))\n",
    "\n",
    "M_eval = 2-(1/2)*sympy.sqrt(7+sympy.sqrt(30+6*sympy.sqrt(5))+sympy.sqrt(5))\n",
    "\n",
    "tmp = C_H4*M_evec-M_eval*M_evec\n",
    "print(sympy.expand(tmp))"
   ]
  },
  {
   "cell_type": "code",
   "execution_count": null,
   "metadata": {},
   "outputs": [],
   "source": []
  },
  {
   "cell_type": "markdown",
   "metadata": {},
   "source": [
    "Find/verify the reciprocal basis of fundamental weights:"
   ]
  },
  {
   "cell_type": "code",
   "execution_count": 20,
   "metadata": {},
   "outputs": [],
   "source": [
    "reciprocal_roots = [1-tau*(e2^e3) - (tau+1)*(e1^e3), -2*tau*(e2^e3) - 2*(tau+1)*(e1^e3),-(2*tau+1)*(e2^e3) - 3*(tau+1)*(e1^e3) -tau*(e1^e2) ,-(2*tau+1)*(e2^e3) - (3*tau+1)*(e1^e3) -tau*(e1^e2)]"
   ]
  },
  {
   "cell_type": "code",
   "execution_count": 21,
   "metadata": {},
   "outputs": [
    {
     "data": {
      "text/latex": [
       "$$\\left[\\begin{array}{cccc}1.0 & 0 & 0 & 0\\\\0 & 1.0 & 0 & 0\\\\0 & 0 & 1.0 & 0\\\\0 & 0 & 0 & 1.0\\end{array}\\right]$$"
      ],
      "text/plain": [
       "Matrix([\n",
       "[1.0,   0,   0,   0],\n",
       "[  0, 1.0,   0,   0],\n",
       "[  0,   0, 1.0,   0],\n",
       "[  0,   0,   0, 1.0]])"
      ]
     },
     "execution_count": 21,
     "metadata": {},
     "output_type": "execute_result"
    }
   ],
   "source": [
    "Follow the 4D Coxeter plane discussion (e.g. from the Sage worksheet) entirely in spinorial terms in the even subalgebra. Rec = zeros(4)\n",
    "for i in range(len(simple_roots_4D)):\n",
    "    for j in range(len(reciprocal_roots)):\n",
    "        tmp=((spIP(simple_roots_4D[i], reciprocal_roots[j])))\n",
    "        Rec[i,j]=tmp.blade_coefs()[0]\n",
    "Rec\n"
   ]
  },
  {
   "cell_type": "markdown",
   "metadata": {},
   "source": [
    "Follow the 4D Coxeter plane discussion (e.g. from the Sage worksheet) entirely in spinorial terms in the even subalgebra. "
   ]
  },
  {
   "cell_type": "code",
   "execution_count": 30,
   "metadata": {},
   "outputs": [
    {
     "data": {
      "text/latex": [
       "$$3.02546243347603e-123$$"
      ],
      "text/plain": [
       "3.02546243347603e-123"
      ]
     },
     "execution_count": 30,
     "metadata": {},
     "output_type": "execute_result"
    }
   ],
   "source": [
    "# find partition of roots\n",
    "PF_vec = Maple_evec #PF_vec =vector([0.371748034514429893,0.707106781320503752,0.601500954816544975])#cheat\n",
    "\n",
    "Omega_H4=reciprocal_roots\n",
    "\n",
    "#could also define a function - do by hand for now!\n",
    "roots_black_H4 = [0,2]\n",
    "roots_white_H4 = [1,3]\n",
    "\n",
    "black_vector_H4 = 0\n",
    "white_vector_H4 = 0\n",
    "\n",
    "for i in roots_black_H4:\n",
    "    black_vector_H4 = black_vector_H4  +PF_vec[i]*Omega_H4[i]\n",
    "\n",
    "for i in roots_white_H4:\n",
    "    white_vector_H4 = white_vector_H4+PF_vec[i]*Omega_H4[i]\n",
    "    \n",
    "#these two vectors define the Coxeter plane. Now turn them into a Cartesian coordinate system there\n",
    "\n",
    "#normalise\n",
    "black_vector_H4 =black_vector_H4/(black_vector_H4.norm())\n",
    "white_vector_H4 =white_vector_H4/(white_vector_H4.norm())\n",
    "\n",
    "\n",
    "spIP(black_vector_H4, white_vector_H4)  \n",
    "\n",
    "#orthogonalise\n",
    "black_vector_H4 = black_vector_H4 - spIP(black_vector_H4, white_vector_H4) *white_vector_H4\n",
    "#renormalise\n",
    "black_vector_H4 =black_vector_H4/(black_vector_H4.norm())\n",
    "\n",
    "tmp = spIP(black_vector_H4, white_vector_H4)  \n",
    "float(tmp.blade_coefs()[0])"
   ]
  },
  {
   "cell_type": "code",
   "execution_count": 34,
   "metadata": {},
   "outputs": [],
   "source": [
    "float_black_vector_H4 =float(black_vector_H4.blade_coefs()[0])+float(black_vector_H4.blade_coefs()[6])*(e2^e3) +float(black_vector_H4.blade_coefs()[5])*(e1^e3) + float(black_vector_H4.blade_coefs()[4])*(e1^e2)\n",
    "\n",
    "float_white_vector_H4 =float(white_vector_H4.blade_coefs()[0])+float(white_vector_H4.blade_coefs()[6])*(e2^e3) +float(white_vector_H4.blade_coefs()[5])*(e1^e3) + float(white_vector_H4.blade_coefs()[4])*(e1^e2)\n",
    "\n"
   ]
  },
  {
   "cell_type": "code",
   "execution_count": null,
   "metadata": {},
   "outputs": [],
   "source": []
  },
  {
   "cell_type": "markdown",
   "metadata": {},
   "source": [
    "Plotting here not as pretty as in Sage but in 2D and without the 3D bounding boxes. "
   ]
  },
  {
   "cell_type": "code",
   "execution_count": 38,
   "metadata": {},
   "outputs": [],
   "source": [
    "H4_RS_proj=[]\n",
    "for i in H4_RS:\n",
    "    tmp_b = spIP(i, float_black_vector_H4)\n",
    "    tmp_w = spIP(i, float_white_vector_H4)\n",
    "    H4_RS_proj.append([tmp_b.blade_coefs()[0], tmp_w.blade_coefs()[0]])"
   ]
  },
  {
   "cell_type": "code",
   "execution_count": 51,
   "metadata": {},
   "outputs": [
    {
     "name": "stderr",
     "output_type": "stream",
     "text": [
      "/Users/pierre-philippedechant/anaconda3/lib/python3.7/site-packages/matplotlib/figure.py:98: MatplotlibDeprecationWarning: \n",
      "Adding an axes using the same arguments as a previous axes currently reuses the earlier instance.  In a future version, a new instance will always be created and returned.  Meanwhile, this warning can be suppressed, and the future behavior ensured, by passing a unique label to each axes instance.\n",
      "  \"Adding an axes using the same arguments as a previous axes \"\n"
     ]
    },
    {
     "data": {
      "text/plain": [
       "<matplotlib.collections.PathCollection at 0x7f88b4c61e80>"
      ]
     },
     "execution_count": 51,
     "metadata": {},
     "output_type": "execute_result"
    },
    {
     "data": {
      "image/png": "[encoded data removed]",
      "text/plain": [
       "<Figure size 432x288 with 1 Axes>"
      ]
     },
     "metadata": {},
     "output_type": "display_data"
    }
   ],
   "source": [
    "import matplotlib.pyplot as plt\n",
    "\n",
    "x = [i[0] for i in H4_RS_proj]\n",
    "y = [i[1] for i in H4_RS_proj]\n",
    "plt.axes().set_aspect('equal')\n",
    "plt.xlabel('')\n",
    "plt.ylabel('')\n",
    "plt.axes().set_xticks([])\n",
    "plt.axes().set_yticks([])\n",
    "plt.scatter(x,y)"
   ]
  },
  {
   "cell_type": "code",
   "execution_count": 54,
   "metadata": {},
   "outputs": [
    {
     "data": {
      "text/plain": [
       "<matplotlib.collections.PathCollection at 0x7f88b4d13908>"
      ]
     },
     "execution_count": 54,
     "metadata": {},
     "output_type": "execute_result"
    },
    {
     "data": {
      "image/png": "[encoded data removed]",
      "text/plain": [
       "<Figure size 432x288 with 1 Axes>"
      ]
     },
     "metadata": {},
     "output_type": "display_data"
    }
   ],
   "source": [
    "A2A2_RS=A2A2\n",
    "A2A2_RS_proj=[]\n",
    "for i in A2A2_RS:\n",
    "    tmp_b = spIP(i, float_black_vector_H4)\n",
    "    tmp_w = spIP(i, float_white_vector_H4)\n",
    "    A2A2_RS_proj.append([tmp_b.blade_coefs()[0], tmp_w.blade_coefs()[0]])\n",
    "x = [i[0] for i in A2A2_RS_proj]\n",
    "y = [i[1] for i in A2A2_RS_proj]\n",
    "plt.axes().set_aspect('equal')\n",
    "plt.xlabel('')\n",
    "plt.ylabel('')\n",
    "plt.axes().set_xticks([])\n",
    "plt.axes().set_yticks([])\n",
    "plt.scatter(x,y)"
   ]
  },
  {
   "cell_type": "code",
   "execution_count": 55,
   "metadata": {},
   "outputs": [
    {
     "data": {
      "text/plain": [
       "<matplotlib.collections.PathCollection at 0x7f88b4d5bb38>"
      ]
     },
     "execution_count": 55,
     "metadata": {},
     "output_type": "execute_result"
    },
    {
     "data": {
      "image/png": "[encoded data removed]",
      "text/plain": [
       "<Figure size 432x288 with 1 Axes>"
      ]
     },
     "metadata": {},
     "output_type": "display_data"
    }
   ],
   "source": [
    "H2H2_RS=H2H2\n",
    "H2H2_RS_proj=[]\n",
    "for i in H2H2_RS:\n",
    "    tmp_b = spIP(i, float_black_vector_H4)\n",
    "    tmp_w = spIP(i, float_white_vector_H4)\n",
    "    H2H2_RS_proj.append([tmp_b.blade_coefs()[0], tmp_w.blade_coefs()[0]])\n",
    "x = [i[0] for i in H2H2_RS_proj]\n",
    "y = [i[1] for i in H2H2_RS_proj]\n",
    "plt.axes().set_aspect('equal')\n",
    "plt.xlabel('')\n",
    "plt.ylabel('')\n",
    "plt.axes().set_xticks([])\n",
    "plt.axes().set_yticks([])\n",
    "plt.scatter(x,y)"
   ]
  },
  {
   "cell_type": "code",
   "execution_count": 136,
   "metadata": {},
   "outputs": [
    {
     "name": "stderr",
     "output_type": "stream",
     "text": [
      "/Users/pierre-philippedechant/anaconda3/lib/python3.7/site-packages/matplotlib/figure.py:98: MatplotlibDeprecationWarning: \n",
      "Adding an axes using the same arguments as a previous axes currently reuses the earlier instance.  In a future version, a new instance will always be created and returned.  Meanwhile, this warning can be suppressed, and the future behavior ensured, by passing a unique label to each axes instance.\n",
      "  \"Adding an axes using the same arguments as a previous axes \"\n"
     ]
    },
    {
     "data": {
      "text/plain": [
       "<matplotlib.collections.PathCollection at 0x7f88b4c2b9b0>"
      ]
     },
     "execution_count": 136,
     "metadata": {},
     "output_type": "execute_result"
    },
    {
     "data": {
      "image/png": "[encoded data removed]",
      "text/plain": [
       "<Figure size 432x288 with 1 Axes>"
      ]
     },
     "metadata": {},
     "output_type": "display_data"
    }
   ],
   "source": [
    "A4_RS=A4\n",
    "A4_RS_proj=[]\n",
    "for i in A4_RS:\n",
    "    tmp_b = spIP(i, float_black_vector_H4)\n",
    "    tmp_w = spIP(i, float_white_vector_H4)\n",
    "    A4_RS_proj.append([tmp_b.blade_coefs()[0], tmp_w.blade_coefs()[0]])\n",
    "x = [i[0] for i in A4_RS_proj]\n",
    "y = [i[1] for i in A4_RS_proj]\n",
    "plt.axes().set_aspect('equal')\n",
    "plt.xlabel('')\n",
    "plt.ylabel('')\n",
    "plt.axes().set_xticks([])\n",
    "plt.axes().set_yticks([])\n",
    "plt.scatter(x,y)"
   ]
  },
  {
   "cell_type": "code",
   "execution_count": 137,
   "metadata": {},
   "outputs": [
    {
     "data": {
      "text/plain": [
       "<matplotlib.collections.PathCollection at 0x7f88b524cf60>"
      ]
     },
     "execution_count": 137,
     "metadata": {},
     "output_type": "execute_result"
    },
    {
     "data": {
      "image/png": "[encoded data removed]",
      "text/plain": [
       "<Figure size 432x288 with 1 Axes>"
      ]
     },
     "metadata": {},
     "output_type": "display_data"
    }
   ],
   "source": [
    "D4_RS=D4\n",
    "D4_RS_proj=[]\n",
    "for i in D4_RS:\n",
    "    tmp_b = spIP(i, float_black_vector_H4)\n",
    "    tmp_w = spIP(i, float_white_vector_H4)\n",
    "    D4_RS_proj.append([tmp_b.blade_coefs()[0], tmp_w.blade_coefs()[0]])\n",
    "x = [i[0] for i in D4_RS_proj]\n",
    "y = [i[1] for i in D4_RS_proj]\n",
    "plt.axes().set_aspect('equal')\n",
    "plt.xlabel('')\n",
    "plt.ylabel('')\n",
    "plt.axes().set_xticks([])\n",
    "plt.axes().set_yticks([])\n",
    "plt.scatter(x,y)"
   ]
  },
  {
   "cell_type": "code",
   "execution_count": 153,
   "metadata": {},
   "outputs": [
    {
     "data": {
      "text/plain": [
       "<matplotlib.collections.PathCollection at 0x7f88b53e9b38>"
      ]
     },
     "execution_count": 153,
     "metadata": {},
     "output_type": "execute_result"
    },
    {
     "data": {
      "image/png": "[encoded data removed]",
      "text/plain": [
       "<Figure size 432x288 with 1 Axes>"
      ]
     },
     "metadata": {},
     "output_type": "display_data"
    }
   ],
   "source": [
    "A14_RS=A14\n",
    "A14_RS_proj=[]\n",
    "for i in A14_RS:\n",
    "    tmp_b = spIP(i, float_black_vector_H4)\n",
    "    tmp_w = spIP(i, float_white_vector_H4)\n",
    "    A14_RS_proj.append([tmp_b.blade_coefs()[0], tmp_w.blade_coefs()[0]])\n",
    "x = [i[0] for i in A14_RS_proj]\n",
    "y = [i[1] for i in A14_RS_proj]\n",
    "plt.axes().set_aspect('equal')\n",
    "plt.xlabel('')\n",
    "plt.ylabel('')\n",
    "plt.axes().set_xticks([])\n",
    "plt.axes().set_yticks([])\n",
    "plt.scatter(x,y)"
   ]
  },
  {
   "cell_type": "code",
   "execution_count": null,
   "metadata": {},
   "outputs": [],
   "source": []
  },
  {
   "cell_type": "code",
   "execution_count": 154,
   "metadata": {},
   "outputs": [
    {
     "data": {
      "text/plain": [
       "<matplotlib.collections.PathCollection at 0x7f88b55d2908>"
      ]
     },
     "execution_count": 154,
     "metadata": {},
     "output_type": "execute_result"
    },
    {
     "data": {
      "image/png": "[encoded data removed]",
      "text/plain": [
       "<Figure size 432x288 with 1 Axes>"
      ]
     },
     "metadata": {},
     "output_type": "display_data"
    }
   ],
   "source": [
    "A14_RS=snubA14\n",
    "A14_RS_proj=[]\n",
    "for i in A14_RS:\n",
    "    tmp_b = spIP(i, float_black_vector_H4)\n",
    "    tmp_w = spIP(i, float_white_vector_H4)\n",
    "    A14_RS_proj.append([tmp_b.blade_coefs()[0], tmp_w.blade_coefs()[0]])\n",
    "x = [i[0] for i in A14_RS_proj]\n",
    "y = [i[1] for i in A14_RS_proj]\n",
    "plt.axes().set_aspect('equal')\n",
    "plt.xlabel('')\n",
    "plt.ylabel('')\n",
    "plt.axes().set_xticks([])\n",
    "plt.axes().set_yticks([])\n",
    "plt.scatter(x,y)"
   ]
  },
  {
   "cell_type": "code",
   "execution_count": null,
   "metadata": {},
   "outputs": [],
   "source": []
  },
  {
   "cell_type": "markdown",
   "metadata": {},
   "source": [
    "Final checks root systems are closed and contained in $H_4$. "
   ]
  },
  {
   "cell_type": "code",
   "execution_count": 88,
   "metadata": {},
   "outputs": [
    {
     "name": "stdout",
     "output_type": "stream",
     "text": [
      "True\n",
      "True\n",
      "True\n",
      "True\n"
     ]
    }
   ],
   "source": [
    "\n",
    "for i in [a1*e3,   a2*e1*e2*e3,a2*e3,a1*e1*e2*e3]:\n",
    "    print(i in spin_group_H3)\n",
    "\n"
   ]
  },
  {
   "cell_type": "code",
   "execution_count": 89,
   "metadata": {},
   "outputs": [
    {
     "name": "stdout",
     "output_type": "stream",
     "text": [
      "4 5\n",
      "----------------\n",
      "9 3\n",
      "----------------\n",
      "There are  12  elements in total.\n"
     ]
    }
   ],
   "source": [
    "A2A2_spin_closure = closure_of_generators([a1*a1, a1*a2, e1*e2*e3*a1, e1*e2*e3*a2])\n"
   ]
  },
  {
   "cell_type": "code",
   "execution_count": 90,
   "metadata": {},
   "outputs": [
    {
     "name": "stdout",
     "output_type": "stream",
     "text": [
      "4 6\n",
      "----------------\n",
      "10 8\n",
      "----------------\n",
      "18 2\n",
      "----------------\n",
      "There are  20  elements in total.\n"
     ]
    }
   ],
   "source": [
    "H2H2_spin_closure = closure_of_generators([a1*a1, a2*a3, e1*e2*e3*a2, e1*e2*e3*a3])"
   ]
  },
  {
   "cell_type": "code",
   "execution_count": 92,
   "metadata": {},
   "outputs": [],
   "source": [
    "for i in A2A2_spin_closure:\n",
    "    for j in A2A2_spin_closure:\n",
    "        if i*j not in A2A2_spin_closure:\n",
    "            print('problem')"
   ]
  },
  {
   "cell_type": "code",
   "execution_count": 93,
   "metadata": {},
   "outputs": [],
   "source": [
    "for i in H2H2_spin_closure:\n",
    "    for j in H2H2_spin_closure:\n",
    "        if i*j not in H2H2_spin_closure:\n",
    "            print('problem')"
   ]
  },
  {
   "cell_type": "code",
   "execution_count": null,
   "metadata": {},
   "outputs": [],
   "source": []
  }
 ],
 "metadata": {
  "kernelspec": {
   "display_name": "Python 3",
   "language": "python",
   "name": "python3"
  },
  "language_info": {
   "codemirror_mode": {
    "name": "ipython",
    "version": 3
   },
   "file_extension": ".py",
   "mimetype": "text/x-python",
   "name": "python",
   "nbconvert_exporter": "python",
   "pygments_lexer": "ipython3",
   "version": "3.7.1"
  }
 },
 "nbformat": 4,
 "nbformat_minor": 2
}
